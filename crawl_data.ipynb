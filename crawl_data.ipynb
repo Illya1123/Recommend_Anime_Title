{
 "cells": [
  {
   "cell_type": "markdown",
   "metadata": {},
   "source": [
    "#### Thêm thư viện cần thiết"
   ]
  },
  {
   "cell_type": "code",
   "execution_count": 10,
   "metadata": {},
   "outputs": [],
   "source": [
    "import os\n",
    "from selenium import webdriver\n",
    "from selenium.webdriver.common.by import By\n",
    "import time\n",
    "import json"
   ]
  },
  {
   "cell_type": "markdown",
   "metadata": {},
   "source": [
    "#### Cấu hình trình duyệt Brave"
   ]
  },
  {
   "cell_type": "code",
   "execution_count": 11,
   "metadata": {},
   "outputs": [],
   "source": [
    "options = webdriver.ChromeOptions()\n",
    "options.binary_location = \"C:\\\\Program Files\\\\BraveSoftware\\\\Brave-Browser\\\\Application\\\\brave.exe\"\n",
    "options.add_argument(\"--headless\")  # Chạy trong chế độ headless (không hiển thị giao diện)\n",
    "options.add_argument(\"--disable-gpu\")"
   ]
  },
  {
   "cell_type": "code",
   "execution_count": 12,
   "metadata": {},
   "outputs": [],
   "source": [
    "season_translation = {\n",
    "    \"spring\": \"Mùa xuân\",\n",
    "    \"summer\": \"Mùa hè\",\n",
    "    \"autumn\": \"Mùa thu\",\n",
    "    \"winter\": \"Mùa đông\"\n",
    "}"
   ]
  },
  {
   "cell_type": "markdown",
   "metadata": {},
   "source": [
    "#### Hàm cào thông tin anime"
   ]
  },
  {
   "cell_type": "code",
   "execution_count": 13,
   "metadata": {},
   "outputs": [],
   "source": [
    "def scrape_anime_data(list_type, season, pages, output_file):\n",
    "    if not os.path.exists('data/raw'):\n",
    "        os.makedirs('data/raw')\n",
    "\n",
    "    output_file_path = os.path.join('data/raw', output_file)\n",
    "\n",
    "    season_vietnamese = season_translation.get(season, season)\n",
    "\n",
    "    base_url = f\"https://animevietsub.page/danh-sach/{list_type}/all/{season}/all/\"\n",
    "\n",
    "    driver = webdriver.Chrome(options=options)\n",
    "    anime_data = []\n",
    "\n",
    "    for i in range(1, pages + 1):\n",
    "        next_page_url = f\"{base_url}trang-{i}.html\"\n",
    "        driver.get(next_page_url)\n",
    "        time.sleep(2)\n",
    "\n",
    "        anime_elements = driver.find_elements(By.CSS_SELECTOR, \"li.TPostMv\")\n",
    "\n",
    "        for element in anime_elements:\n",
    "            try:\n",
    "                title = element.find_element(By.CSS_SELECTOR, \"h2.Title\").text\n",
    "                link = element.find_element(By.TAG_NAME, \"a\").get_attribute(\"href\")\n",
    "                image = element.find_element(By.CSS_SELECTOR, \"div.Image img\").get_attribute(\"src\")\n",
    "                episode = element.find_element(By.CSS_SELECTOR, \"span.mli-eps\").text if element.find_elements(By.CSS_SELECTOR, \"span.mli-eps\") else \"N/A\"\n",
    "                rating = element.find_element(By.CSS_SELECTOR, \"div.anime-avg-user-rating\").get_attribute(\"title\") if element.find_elements(By.CSS_SELECTOR, \"div.anime-avg-user-rating\") else \"N/A\"\n",
    "                views = element.find_element(By.CSS_SELECTOR, \"span.Year\").text.replace(\"Lượt xem: \", \"\")\n",
    "\n",
    "                quality = element.find_element(By.CSS_SELECTOR, \"span.Qlty\").get_attribute('innerText') if element.find_elements(By.CSS_SELECTOR, \"span.Qlty\") else \"N/A\"\n",
    "                year = element.find_element(By.CSS_SELECTOR, \"span.Date.AAIco-date_range\").get_attribute('innerText') if element.find_elements(By.CSS_SELECTOR, \"span.Date.AAIco-date_range\") else \"N/A\"\n",
    "                description = element.find_element(By.CSS_SELECTOR, \"div.Description p\").get_attribute('innerText') if element.find_elements(By.CSS_SELECTOR, \"div.Description p\") else \"N/A\"\n",
    "\n",
    "                genres = \", \".join([genre.get_attribute(\"title\") for genre in element.find_elements(By.CSS_SELECTOR, \"p.Genre a\")])\n",
    "\n",
    "                anime_data.append({\n",
    "                    \"title\": title,\n",
    "                    \"link\": link,\n",
    "                    \"image\": image,\n",
    "                    \"episode\": episode,\n",
    "                    \"rating\": rating,\n",
    "                    \"views\": views,\n",
    "                    \"quality\": quality,\n",
    "                    \"year\": year,\n",
    "                    \"genres\": genres,\n",
    "                    \"description\": description,\n",
    "                    \"season\": season_vietnamese\n",
    "                })\n",
    "            except Exception as e:\n",
    "                print(f\"Error extracting data for an element: {e}\")\n",
    "\n",
    "    driver.quit()\n",
    "\n",
    "    with open(output_file_path, \"w\", encoding=\"utf-8\") as f:\n",
    "        json.dump(anime_data, f, ensure_ascii=False, indent=4)\n",
    "\n",
    "    print(f\"Scraping completed. Data saved to {output_file_path}\")"
   ]
  },
  {
   "cell_type": "markdown",
   "metadata": {},
   "source": [
    "#### Crawl data"
   ]
  },
  {
   "cell_type": "code",
   "execution_count": 14,
   "metadata": {},
   "outputs": [
    {
     "name": "stdout",
     "output_type": "stream",
     "text": [
      "Scraping completed. Data saved to data/raw\\anime_movies_spring.json\n",
      "Scraping completed. Data saved to data/raw\\anime_movies_summer.json\n",
      "Scraping completed. Data saved to data/raw\\anime_movies_autumn.json\n",
      "Scraping completed. Data saved to data/raw\\anime_movies_winter.json\n",
      "Scraping completed. Data saved to data/raw\\anime_series_spring.json\n",
      "Scraping completed. Data saved to data/raw\\anime_series_summer.json\n",
      "Scraping completed. Data saved to data/raw\\anime_series_autumn.json\n",
      "Scraping completed. Data saved to data/raw\\anime_series_winter.json\n"
     ]
    }
   ],
   "source": [
    "scrape_anime_data(\"list-le\", \"spring\", 14, \"anime_movies_spring.json\")\n",
    "scrape_anime_data(\"list-le\", \"summer\", 9, \"anime_movies_summer.json\")\n",
    "scrape_anime_data(\"list-le\", \"autumn\", 11, \"anime_movies_autumn.json\")\n",
    "scrape_anime_data(\"list-le\", \"winter\", 10, \"anime_movies_winter.json\")\n",
    "scrape_anime_data(\"list-bo\", \"spring\", 47, \"anime_series_spring.json\")\n",
    "scrape_anime_data(\"list-bo\", \"summer\", 28, \"anime_series_summer.json\")\n",
    "scrape_anime_data(\"list-bo\", \"autumn\", 36, \"anime_series_autumn.json\")\n",
    "scrape_anime_data(\"list-bo\", \"winter\", 28, \"anime_series_winter.json\")"
   ]
  }
 ],
 "metadata": {
  "kernelspec": {
   "display_name": "venv",
   "language": "python",
   "name": "python3"
  },
  "language_info": {
   "codemirror_mode": {
    "name": "ipython",
    "version": 3
   },
   "file_extension": ".py",
   "mimetype": "text/x-python",
   "name": "python",
   "nbconvert_exporter": "python",
   "pygments_lexer": "ipython3",
   "version": "3.10.6"
  }
 },
 "nbformat": 4,
 "nbformat_minor": 2
}
