{
 "cells": [
  {
   "cell_type": "code",
   "execution_count": 29,
   "metadata": {},
   "outputs": [],
   "source": [
    "import pandas as pd\n",
    "import numpy as np\n",
    "import re\n",
    "import os"
   ]
  },
  {
   "cell_type": "code",
   "execution_count": 30,
   "metadata": {},
   "outputs": [],
   "source": [
    "# Đường dẫn thư mục cleaned trong thư mục data\n",
    "cleaned_data_path = './data/cleaned/'\n",
    "csv_file_path = os.path.join(cleaned_data_path, 'anime_data_cleaned.csv')"
   ]
  },
  {
   "cell_type": "code",
   "execution_count": 31,
   "metadata": {},
   "outputs": [],
   "source": [
    "data = pd.read_csv('./data/merge/anime_data.csv', encoding='utf-8')"
   ]
  },
  {
   "cell_type": "code",
   "execution_count": 32,
   "metadata": {},
   "outputs": [
    {
     "data": {
      "text/html": [
       "<div>\n",
       "<style scoped>\n",
       "    .dataframe tbody tr th:only-of-type {\n",
       "        vertical-align: middle;\n",
       "    }\n",
       "\n",
       "    .dataframe tbody tr th {\n",
       "        vertical-align: top;\n",
       "    }\n",
       "\n",
       "    .dataframe thead th {\n",
       "        text-align: right;\n",
       "    }\n",
       "</style>\n",
       "<table border=\"1\" class=\"dataframe\">\n",
       "  <thead>\n",
       "    <tr style=\"text-align: right;\">\n",
       "      <th></th>\n",
       "      <th>title</th>\n",
       "      <th>link</th>\n",
       "      <th>image</th>\n",
       "      <th>episode</th>\n",
       "      <th>rating</th>\n",
       "      <th>views</th>\n",
       "      <th>quality</th>\n",
       "      <th>year</th>\n",
       "      <th>genres</th>\n",
       "      <th>description</th>\n",
       "      <th>season</th>\n",
       "      <th>type</th>\n",
       "    </tr>\n",
       "  </thead>\n",
       "  <tbody>\n",
       "    <tr>\n",
       "      <th>0</th>\n",
       "      <td>5-toubun no Hanayome*</td>\n",
       "      <td>https://animevietsub.page/phim/5-toubun-no-han...</td>\n",
       "      <td>https://cdn.animevietsub.page/data/poster/2024...</td>\n",
       "      <td>NaN</td>\n",
       "      <td>9.6 trong số 10 dựa trên 301 thành viên đánh giá</td>\n",
       "      <td>235,236</td>\n",
       "      <td>HD</td>\n",
       "      <td>2024</td>\n",
       "      <td>Shounen, School, Romance, Harem, Comedy</td>\n",
       "      <td>Chuyến đi tuần trăng mật của Fuutarou Uesugi v...</td>\n",
       "      <td>Mùa thu</td>\n",
       "      <td>phim lẻ</td>\n",
       "    </tr>\n",
       "    <tr>\n",
       "      <th>1</th>\n",
       "      <td>Overlord Movie 3: Sei Oukoku-hen</td>\n",
       "      <td>https://animevietsub.page/phim/overlord-movie-...</td>\n",
       "      <td>https://cdn.animevietsub.page/data/poster/2024...</td>\n",
       "      <td>NaN</td>\n",
       "      <td>9.4 trong số 10 dựa trên 115 thành viên đánh giá</td>\n",
       "      <td>687,666</td>\n",
       "      <td>CAM</td>\n",
       "      <td>2024</td>\n",
       "      <td>Fantasy, Adventure, Magic, Action</td>\n",
       "      <td>Vương quốc thiêng liêng đã trải qua nhiều năm ...</td>\n",
       "      <td>Mùa thu</td>\n",
       "      <td>phim lẻ</td>\n",
       "    </tr>\n",
       "    <tr>\n",
       "      <th>2</th>\n",
       "      <td>Digimon Adventure 02: The Beginning</td>\n",
       "      <td>https://animevietsub.page/phim/digimon-adventu...</td>\n",
       "      <td>https://cdn.animevietsub.page/data/poster/2024...</td>\n",
       "      <td>NaN</td>\n",
       "      <td>7.3 trong số 10 dựa trên 3 thành viên đánh giá</td>\n",
       "      <td>27,447</td>\n",
       "      <td>HD</td>\n",
       "      <td>2023</td>\n",
       "      <td>Fantasy, Drama, Comedy, Adventure, Action</td>\n",
       "      <td>Hai năm sau trận chiến với Eosmon, Davis Motom...</td>\n",
       "      <td>Mùa thu</td>\n",
       "      <td>phim lẻ</td>\n",
       "    </tr>\n",
       "    <tr>\n",
       "      <th>3</th>\n",
       "      <td>Tengen Toppa Gurren Lagann Movie 1: Gurren-hen</td>\n",
       "      <td>https://animevietsub.page/phim/tengen-toppa-gu...</td>\n",
       "      <td>https://cdn.animevietsub.page/data/poster/2024...</td>\n",
       "      <td>NaN</td>\n",
       "      <td>9 trong số 10 dựa trên 9 thành viên đánh giá</td>\n",
       "      <td>37,285</td>\n",
       "      <td>FHD</td>\n",
       "      <td>2008</td>\n",
       "      <td>Sci-Fi, Action</td>\n",
       "      <td>Studio hoạt hình Gainax đã giới thiệu một tran...</td>\n",
       "      <td>Mùa thu</td>\n",
       "      <td>phim lẻ</td>\n",
       "    </tr>\n",
       "    <tr>\n",
       "      <th>4</th>\n",
       "      <td>Yowamushi Pedal: Spare Bike</td>\n",
       "      <td>https://animevietsub.page/phim/yowamushi-pedal...</td>\n",
       "      <td>https://cdn.animevietsub.page/data/poster/2024...</td>\n",
       "      <td>NaN</td>\n",
       "      <td>7.5 trong số 10 dựa trên 11 thành viên đánh giá</td>\n",
       "      <td>15,265</td>\n",
       "      <td>FHD</td>\n",
       "      <td>2016</td>\n",
       "      <td>Shounen, Sports, Drama, Action</td>\n",
       "      <td>Anime chuyển thể từ manga ngoại truyện cùng tê...</td>\n",
       "      <td>Mùa thu</td>\n",
       "      <td>phim lẻ</td>\n",
       "    </tr>\n",
       "  </tbody>\n",
       "</table>\n",
       "</div>"
      ],
      "text/plain": [
       "                                            title  \\\n",
       "0                           5-toubun no Hanayome*   \n",
       "1                Overlord Movie 3: Sei Oukoku-hen   \n",
       "2             Digimon Adventure 02: The Beginning   \n",
       "3  Tengen Toppa Gurren Lagann Movie 1: Gurren-hen   \n",
       "4                     Yowamushi Pedal: Spare Bike   \n",
       "\n",
       "                                                link  \\\n",
       "0  https://animevietsub.page/phim/5-toubun-no-han...   \n",
       "1  https://animevietsub.page/phim/overlord-movie-...   \n",
       "2  https://animevietsub.page/phim/digimon-adventu...   \n",
       "3  https://animevietsub.page/phim/tengen-toppa-gu...   \n",
       "4  https://animevietsub.page/phim/yowamushi-pedal...   \n",
       "\n",
       "                                               image episode  \\\n",
       "0  https://cdn.animevietsub.page/data/poster/2024...     NaN   \n",
       "1  https://cdn.animevietsub.page/data/poster/2024...     NaN   \n",
       "2  https://cdn.animevietsub.page/data/poster/2024...     NaN   \n",
       "3  https://cdn.animevietsub.page/data/poster/2024...     NaN   \n",
       "4  https://cdn.animevietsub.page/data/poster/2024...     NaN   \n",
       "\n",
       "                                             rating    views quality  year  \\\n",
       "0  9.6 trong số 10 dựa trên 301 thành viên đánh giá  235,236      HD  2024   \n",
       "1  9.4 trong số 10 dựa trên 115 thành viên đánh giá  687,666     CAM  2024   \n",
       "2    7.3 trong số 10 dựa trên 3 thành viên đánh giá   27,447      HD  2023   \n",
       "3      9 trong số 10 dựa trên 9 thành viên đánh giá   37,285     FHD  2008   \n",
       "4   7.5 trong số 10 dựa trên 11 thành viên đánh giá   15,265     FHD  2016   \n",
       "\n",
       "                                      genres  \\\n",
       "0    Shounen, School, Romance, Harem, Comedy   \n",
       "1          Fantasy, Adventure, Magic, Action   \n",
       "2  Fantasy, Drama, Comedy, Adventure, Action   \n",
       "3                             Sci-Fi, Action   \n",
       "4             Shounen, Sports, Drama, Action   \n",
       "\n",
       "                                         description   season     type  \n",
       "0  Chuyến đi tuần trăng mật của Fuutarou Uesugi v...  Mùa thu  phim lẻ  \n",
       "1  Vương quốc thiêng liêng đã trải qua nhiều năm ...  Mùa thu  phim lẻ  \n",
       "2  Hai năm sau trận chiến với Eosmon, Davis Motom...  Mùa thu  phim lẻ  \n",
       "3  Studio hoạt hình Gainax đã giới thiệu một tran...  Mùa thu  phim lẻ  \n",
       "4  Anime chuyển thể từ manga ngoại truyện cùng tê...  Mùa thu  phim lẻ  "
      ]
     },
     "execution_count": 32,
     "metadata": {},
     "output_type": "execute_result"
    }
   ],
   "source": [
    "data.head()"
   ]
  },
  {
   "cell_type": "code",
   "execution_count": 33,
   "metadata": {},
   "outputs": [
    {
     "data": {
      "text/html": [
       "<div>\n",
       "<style scoped>\n",
       "    .dataframe tbody tr th:only-of-type {\n",
       "        vertical-align: middle;\n",
       "    }\n",
       "\n",
       "    .dataframe tbody tr th {\n",
       "        vertical-align: top;\n",
       "    }\n",
       "\n",
       "    .dataframe thead th {\n",
       "        text-align: right;\n",
       "    }\n",
       "</style>\n",
       "<table border=\"1\" class=\"dataframe\">\n",
       "  <thead>\n",
       "    <tr style=\"text-align: right;\">\n",
       "      <th></th>\n",
       "      <th>title</th>\n",
       "      <th>link</th>\n",
       "      <th>image</th>\n",
       "      <th>episode</th>\n",
       "      <th>rating</th>\n",
       "      <th>views</th>\n",
       "      <th>quality</th>\n",
       "      <th>year</th>\n",
       "      <th>genres</th>\n",
       "      <th>description</th>\n",
       "      <th>season</th>\n",
       "      <th>type</th>\n",
       "    </tr>\n",
       "  </thead>\n",
       "  <tbody>\n",
       "    <tr>\n",
       "      <th>5384</th>\n",
       "      <td>Lớp Học Ám Sát</td>\n",
       "      <td>https://animevietsub.page/phim/lop-hoc-am-sat-...</td>\n",
       "      <td>https://cdn.animevietsub.page/data/poster/2017...</td>\n",
       "      <td>HOÀN\\nTẤT</td>\n",
       "      <td>9.6 trong số 10 dựa trên 191 thành viên đánh giá</td>\n",
       "      <td>2,317,239</td>\n",
       "      <td>HD</td>\n",
       "      <td>2015</td>\n",
       "      <td>Shounen, School, Comedy, Action</td>\n",
       "      <td>Các học sinh lớp 3-E có 1 nhiệm vụ, đó là ám s...</td>\n",
       "      <td>Mùa đông</td>\n",
       "      <td>phim bộ</td>\n",
       "    </tr>\n",
       "    <tr>\n",
       "      <th>5385</th>\n",
       "      <td>Lớp Học Ám Sát 2</td>\n",
       "      <td>https://animevietsub.page/phim/lop-hoc-am-sat-...</td>\n",
       "      <td>https://cdn.animevietsub.page/data/poster/2017...</td>\n",
       "      <td>HOÀN\\nTẤT</td>\n",
       "      <td>9.6 trong số 10 dựa trên 171 thành viên đánh giá</td>\n",
       "      <td>1,731,882</td>\n",
       "      <td>BD</td>\n",
       "      <td>2016</td>\n",
       "      <td>Shounen, School, Comedy, Action</td>\n",
       "      <td>Phần 2 của Ansatsu Kyoushitsu.</td>\n",
       "      <td>Mùa đông</td>\n",
       "      <td>phim bộ</td>\n",
       "    </tr>\n",
       "    <tr>\n",
       "      <th>5386</th>\n",
       "      <td>Air</td>\n",
       "      <td>https://animevietsub.page/phim/air-a186/</td>\n",
       "      <td>https://cdn.animevietsub.page/data/poster/2017...</td>\n",
       "      <td>HOÀN\\nTẤT</td>\n",
       "      <td>8.8 trong số 10 dựa trên 21 thành viên đánh giá</td>\n",
       "      <td>76,301</td>\n",
       "      <td>BD</td>\n",
       "      <td>2005</td>\n",
       "      <td>Romance, Slice of Life, Supernatural, Drama</td>\n",
       "      <td>\\n\\nMùa hè thứ 1000…Kunisaki Yukito, một khách...</td>\n",
       "      <td>Mùa đông</td>\n",
       "      <td>phim bộ</td>\n",
       "    </tr>\n",
       "    <tr>\n",
       "      <th>5387</th>\n",
       "      <td>Amnesia</td>\n",
       "      <td>https://animevietsub.page/phim/amnesia-i3-a149/</td>\n",
       "      <td>https://cdn.animevietsub.page/data/poster/2017...</td>\n",
       "      <td>HOÀN\\nTẤT</td>\n",
       "      <td>8.5 trong số 10 dựa trên 25 thành viên đánh giá</td>\n",
       "      <td>124,034</td>\n",
       "      <td>HD</td>\n",
       "      <td>2013</td>\n",
       "      <td>Romance, Fantasy, Mystery, Josei</td>\n",
       "      <td>Câu chuyện diễn ra ở một thị trấn hư cấu, tron...</td>\n",
       "      <td>Mùa đông</td>\n",
       "      <td>phim bộ</td>\n",
       "    </tr>\n",
       "    <tr>\n",
       "      <th>5388</th>\n",
       "      <td>Ajin</td>\n",
       "      <td>https://animevietsub.page/phim/ajin-r1-a114/</td>\n",
       "      <td>https://cdn.animevietsub.page/data/poster/2017...</td>\n",
       "      <td>HOÀN\\nTẤT</td>\n",
       "      <td>8.2 trong số 10 dựa trên 14 thành viên đánh giá</td>\n",
       "      <td>282,158</td>\n",
       "      <td>BD</td>\n",
       "      <td>2016</td>\n",
       "      <td>Seinen, Supernatural, Horror, Mystery, Action</td>\n",
       "      <td>\\n\\nMột ngày nọ, Kei Nagai, một học sinh cấp b...</td>\n",
       "      <td>Mùa đông</td>\n",
       "      <td>phim bộ</td>\n",
       "    </tr>\n",
       "  </tbody>\n",
       "</table>\n",
       "</div>"
      ],
      "text/plain": [
       "                 title                                               link  \\\n",
       "5384    Lớp Học Ám Sát  https://animevietsub.page/phim/lop-hoc-am-sat-...   \n",
       "5385  Lớp Học Ám Sát 2  https://animevietsub.page/phim/lop-hoc-am-sat-...   \n",
       "5386               Air           https://animevietsub.page/phim/air-a186/   \n",
       "5387           Amnesia    https://animevietsub.page/phim/amnesia-i3-a149/   \n",
       "5388              Ajin       https://animevietsub.page/phim/ajin-r1-a114/   \n",
       "\n",
       "                                                  image    episode  \\\n",
       "5384  https://cdn.animevietsub.page/data/poster/2017...  HOÀN\\nTẤT   \n",
       "5385  https://cdn.animevietsub.page/data/poster/2017...  HOÀN\\nTẤT   \n",
       "5386  https://cdn.animevietsub.page/data/poster/2017...  HOÀN\\nTẤT   \n",
       "5387  https://cdn.animevietsub.page/data/poster/2017...  HOÀN\\nTẤT   \n",
       "5388  https://cdn.animevietsub.page/data/poster/2017...  HOÀN\\nTẤT   \n",
       "\n",
       "                                                rating      views quality  \\\n",
       "5384  9.6 trong số 10 dựa trên 191 thành viên đánh giá  2,317,239      HD   \n",
       "5385  9.6 trong số 10 dựa trên 171 thành viên đánh giá  1,731,882      BD   \n",
       "5386   8.8 trong số 10 dựa trên 21 thành viên đánh giá     76,301      BD   \n",
       "5387   8.5 trong số 10 dựa trên 25 thành viên đánh giá    124,034      HD   \n",
       "5388   8.2 trong số 10 dựa trên 14 thành viên đánh giá    282,158      BD   \n",
       "\n",
       "      year                                         genres  \\\n",
       "5384  2015                Shounen, School, Comedy, Action   \n",
       "5385  2016                Shounen, School, Comedy, Action   \n",
       "5386  2005    Romance, Slice of Life, Supernatural, Drama   \n",
       "5387  2013               Romance, Fantasy, Mystery, Josei   \n",
       "5388  2016  Seinen, Supernatural, Horror, Mystery, Action   \n",
       "\n",
       "                                            description    season     type  \n",
       "5384  Các học sinh lớp 3-E có 1 nhiệm vụ, đó là ám s...  Mùa đông  phim bộ  \n",
       "5385                     Phần 2 của Ansatsu Kyoushitsu.  Mùa đông  phim bộ  \n",
       "5386  \\n\\nMùa hè thứ 1000…Kunisaki Yukito, một khách...  Mùa đông  phim bộ  \n",
       "5387  Câu chuyện diễn ra ở một thị trấn hư cấu, tron...  Mùa đông  phim bộ  \n",
       "5388  \\n\\nMột ngày nọ, Kei Nagai, một học sinh cấp b...  Mùa đông  phim bộ  "
      ]
     },
     "execution_count": 33,
     "metadata": {},
     "output_type": "execute_result"
    }
   ],
   "source": [
    "data.tail()"
   ]
  },
  {
   "cell_type": "code",
   "execution_count": 34,
   "metadata": {},
   "outputs": [
    {
     "name": "stdout",
     "output_type": "stream",
     "text": [
      "<class 'pandas.core.frame.DataFrame'>\n",
      "RangeIndex: 5389 entries, 0 to 5388\n",
      "Data columns (total 12 columns):\n",
      " #   Column       Non-Null Count  Dtype \n",
      "---  ------       --------------  ----- \n",
      " 0   title        5389 non-null   object\n",
      " 1   link         5389 non-null   object\n",
      " 2   image        5389 non-null   object\n",
      " 3   episode      4146 non-null   object\n",
      " 4   rating       5389 non-null   object\n",
      " 5   views        5389 non-null   object\n",
      " 6   quality      5347 non-null   object\n",
      " 7   year         5378 non-null   object\n",
      " 8   genres       5359 non-null   object\n",
      " 9   description  5351 non-null   object\n",
      " 10  season       5389 non-null   object\n",
      " 11  type         5389 non-null   object\n",
      "dtypes: object(12)\n",
      "memory usage: 505.3+ KB\n"
     ]
    }
   ],
   "source": [
    "data.info()"
   ]
  },
  {
   "cell_type": "code",
   "execution_count": 35,
   "metadata": {},
   "outputs": [
    {
     "data": {
      "text/plain": [
       "title             0\n",
       "link              0\n",
       "image             0\n",
       "episode        1243\n",
       "rating            0\n",
       "views             0\n",
       "quality          42\n",
       "year             11\n",
       "genres           30\n",
       "description      38\n",
       "season            0\n",
       "type              0\n",
       "dtype: int64"
      ]
     },
     "execution_count": 35,
     "metadata": {},
     "output_type": "execute_result"
    }
   ],
   "source": [
    "data.isnull().sum()"
   ]
  },
  {
   "cell_type": "markdown",
   "metadata": {},
   "source": [
    "#### Nhận xét tổng quan\n",
    "\n",
    "- Dữ liệu gồm 5389 bản ghi với 12 cột.\n",
    "- Có 5 trường dữ liệu chứa giá trị null là `episode`, `quality`, `year`, `genres` và `description`.\n",
    "- Có 12 trường dữ liệu thuộc dạng `object`."
   ]
  },
  {
   "cell_type": "markdown",
   "metadata": {},
   "source": [
    "## Data cleaning"
   ]
  },
  {
   "cell_type": "markdown",
   "metadata": {},
   "source": [
    "### Xử lý các ký tự \\n của Description"
   ]
  },
  {
   "cell_type": "code",
   "execution_count": 36,
   "metadata": {},
   "outputs": [],
   "source": [
    "data['description'] = data['description'].str.replace('\\n','')\n",
    "data['views'] = data['views'].str.replace(',','')\n",
    "data['title'] = data['title'].str.replace(',',' ')\n",
    "data['episode'] = data['episode'].str.replace('\\n',' ')"
   ]
  },
  {
   "cell_type": "markdown",
   "metadata": {},
   "source": [
    "### Xử lý các giá trị null"
   ]
  },
  {
   "cell_type": "markdown",
   "metadata": {},
   "source": [
    "#### episode"
   ]
  },
  {
   "cell_type": "code",
   "execution_count": 37,
   "metadata": {},
   "outputs": [
    {
     "data": {
      "text/plain": [
       "episode\n",
       "HOÀN TẤT    3505\n",
       "NaN         1243\n",
       "TẬP 02        50\n",
       "TẬP 12        35\n",
       "TẬP 03        25\n",
       "            ... \n",
       "TẬP 154        1\n",
       "TẬP 1149       1\n",
       "TẬP 290        1\n",
       "TẬP 263        1\n",
       "TẬP 73         1\n",
       "Name: count, Length: 124, dtype: int64"
      ]
     },
     "execution_count": 37,
     "metadata": {},
     "output_type": "execute_result"
    }
   ],
   "source": [
    "data['episode'].value_counts(dropna=False)"
   ]
  },
  {
   "cell_type": "code",
   "execution_count": 38,
   "metadata": {},
   "outputs": [
    {
     "data": {
      "text/html": [
       "<div>\n",
       "<style scoped>\n",
       "    .dataframe tbody tr th:only-of-type {\n",
       "        vertical-align: middle;\n",
       "    }\n",
       "\n",
       "    .dataframe tbody tr th {\n",
       "        vertical-align: top;\n",
       "    }\n",
       "\n",
       "    .dataframe thead th {\n",
       "        text-align: right;\n",
       "    }\n",
       "</style>\n",
       "<table border=\"1\" class=\"dataframe\">\n",
       "  <thead>\n",
       "    <tr style=\"text-align: right;\">\n",
       "      <th></th>\n",
       "      <th>title</th>\n",
       "      <th>link</th>\n",
       "      <th>image</th>\n",
       "      <th>episode</th>\n",
       "      <th>rating</th>\n",
       "      <th>views</th>\n",
       "      <th>quality</th>\n",
       "      <th>year</th>\n",
       "      <th>genres</th>\n",
       "      <th>description</th>\n",
       "      <th>season</th>\n",
       "      <th>type</th>\n",
       "    </tr>\n",
       "  </thead>\n",
       "  <tbody>\n",
       "    <tr>\n",
       "      <th>0</th>\n",
       "      <td>5-toubun no Hanayome*</td>\n",
       "      <td>https://animevietsub.page/phim/5-toubun-no-han...</td>\n",
       "      <td>https://cdn.animevietsub.page/data/poster/2024...</td>\n",
       "      <td>NaN</td>\n",
       "      <td>9.6 trong số 10 dựa trên 301 thành viên đánh giá</td>\n",
       "      <td>235236</td>\n",
       "      <td>HD</td>\n",
       "      <td>2024</td>\n",
       "      <td>Shounen, School, Romance, Harem, Comedy</td>\n",
       "      <td>Chuyến đi tuần trăng mật của Fuutarou Uesugi v...</td>\n",
       "      <td>Mùa thu</td>\n",
       "      <td>phim lẻ</td>\n",
       "    </tr>\n",
       "    <tr>\n",
       "      <th>1</th>\n",
       "      <td>Overlord Movie 3: Sei Oukoku-hen</td>\n",
       "      <td>https://animevietsub.page/phim/overlord-movie-...</td>\n",
       "      <td>https://cdn.animevietsub.page/data/poster/2024...</td>\n",
       "      <td>NaN</td>\n",
       "      <td>9.4 trong số 10 dựa trên 115 thành viên đánh giá</td>\n",
       "      <td>687666</td>\n",
       "      <td>CAM</td>\n",
       "      <td>2024</td>\n",
       "      <td>Fantasy, Adventure, Magic, Action</td>\n",
       "      <td>Vương quốc thiêng liêng đã trải qua nhiều năm ...</td>\n",
       "      <td>Mùa thu</td>\n",
       "      <td>phim lẻ</td>\n",
       "    </tr>\n",
       "    <tr>\n",
       "      <th>2</th>\n",
       "      <td>Digimon Adventure 02: The Beginning</td>\n",
       "      <td>https://animevietsub.page/phim/digimon-adventu...</td>\n",
       "      <td>https://cdn.animevietsub.page/data/poster/2024...</td>\n",
       "      <td>NaN</td>\n",
       "      <td>7.3 trong số 10 dựa trên 3 thành viên đánh giá</td>\n",
       "      <td>27447</td>\n",
       "      <td>HD</td>\n",
       "      <td>2023</td>\n",
       "      <td>Fantasy, Drama, Comedy, Adventure, Action</td>\n",
       "      <td>Hai năm sau trận chiến với Eosmon, Davis Motom...</td>\n",
       "      <td>Mùa thu</td>\n",
       "      <td>phim lẻ</td>\n",
       "    </tr>\n",
       "    <tr>\n",
       "      <th>3</th>\n",
       "      <td>Tengen Toppa Gurren Lagann Movie 1: Gurren-hen</td>\n",
       "      <td>https://animevietsub.page/phim/tengen-toppa-gu...</td>\n",
       "      <td>https://cdn.animevietsub.page/data/poster/2024...</td>\n",
       "      <td>NaN</td>\n",
       "      <td>9 trong số 10 dựa trên 9 thành viên đánh giá</td>\n",
       "      <td>37285</td>\n",
       "      <td>FHD</td>\n",
       "      <td>2008</td>\n",
       "      <td>Sci-Fi, Action</td>\n",
       "      <td>Studio hoạt hình Gainax đã giới thiệu một tran...</td>\n",
       "      <td>Mùa thu</td>\n",
       "      <td>phim lẻ</td>\n",
       "    </tr>\n",
       "    <tr>\n",
       "      <th>4</th>\n",
       "      <td>Yowamushi Pedal: Spare Bike</td>\n",
       "      <td>https://animevietsub.page/phim/yowamushi-pedal...</td>\n",
       "      <td>https://cdn.animevietsub.page/data/poster/2024...</td>\n",
       "      <td>NaN</td>\n",
       "      <td>7.5 trong số 10 dựa trên 11 thành viên đánh giá</td>\n",
       "      <td>15265</td>\n",
       "      <td>FHD</td>\n",
       "      <td>2016</td>\n",
       "      <td>Shounen, Sports, Drama, Action</td>\n",
       "      <td>Anime chuyển thể từ manga ngoại truyện cùng tê...</td>\n",
       "      <td>Mùa thu</td>\n",
       "      <td>phim lẻ</td>\n",
       "    </tr>\n",
       "    <tr>\n",
       "      <th>...</th>\n",
       "      <td>...</td>\n",
       "      <td>...</td>\n",
       "      <td>...</td>\n",
       "      <td>...</td>\n",
       "      <td>...</td>\n",
       "      <td>...</td>\n",
       "      <td>...</td>\n",
       "      <td>...</td>\n",
       "      <td>...</td>\n",
       "      <td>...</td>\n",
       "      <td>...</td>\n",
       "      <td>...</td>\n",
       "    </tr>\n",
       "    <tr>\n",
       "      <th>1238</th>\n",
       "      <td>Bức Thư Từ Thế Giới Bên Kia Special</td>\n",
       "      <td>https://animevietsub.page/phim/buc-thu-tu-the-...</td>\n",
       "      <td>https://cdn.animevietsub.page/data/poster/2017...</td>\n",
       "      <td>NaN</td>\n",
       "      <td>9.5 trong số 10 dựa trên 6 thành viên đánh giá</td>\n",
       "      <td>19154</td>\n",
       "      <td>HD</td>\n",
       "      <td>2008</td>\n",
       "      <td>Thriller, Psychological, Fantasy, Drama</td>\n",
       "      <td>Tập 13 của Shigofumi .</td>\n",
       "      <td>Mùa đông</td>\n",
       "      <td>phim lẻ</td>\n",
       "    </tr>\n",
       "    <tr>\n",
       "      <th>1239</th>\n",
       "      <td>Shisha no Teikoku</td>\n",
       "      <td>https://animevietsub.page/phim/shisha-no-teiko...</td>\n",
       "      <td>https://cdn.animevietsub.page/data/poster/2017...</td>\n",
       "      <td>NaN</td>\n",
       "      <td>9.3 trong số 10 dựa trên 14 thành viên đánh giá</td>\n",
       "      <td>48964</td>\n",
       "      <td>HD</td>\n",
       "      <td>2015</td>\n",
       "      <td>Sci-Fi, Psychological, Historical</td>\n",
       "      <td>Công nghệ hồi sinh xác chết được phát triển và...</td>\n",
       "      <td>Mùa đông</td>\n",
       "      <td>phim lẻ</td>\n",
       "    </tr>\n",
       "    <tr>\n",
       "      <th>1240</th>\n",
       "      <td>Trinity Seven Movie: Eternity Library to Alche...</td>\n",
       "      <td>https://animevietsub.page/phim/trinity-seven-m...</td>\n",
       "      <td>https://cdn.animevietsub.page/data/poster/2017...</td>\n",
       "      <td>NaN</td>\n",
       "      <td>9.6 trong số 10 dựa trên 109 thành viên đánh giá</td>\n",
       "      <td>425580</td>\n",
       "      <td>BD</td>\n",
       "      <td>2017</td>\n",
       "      <td>Shounen, School, Romance, Harem, Fantasy, Ecch...</td>\n",
       "      <td>Câu chuyện bắt đầu khi Arata vô tình chạm vào ...</td>\n",
       "      <td>Mùa đông</td>\n",
       "      <td>phim lẻ</td>\n",
       "    </tr>\n",
       "    <tr>\n",
       "      <th>1241</th>\n",
       "      <td>Thất Tinh OVA</td>\n",
       "      <td>https://animevietsub.page/phim/that-tinh-ova-i...</td>\n",
       "      <td>https://cdn.animevietsub.page/data/poster/2017...</td>\n",
       "      <td>NaN</td>\n",
       "      <td>9.6 trong số 10 dựa trên 62 thành viên đánh giá</td>\n",
       "      <td>350483</td>\n",
       "      <td>BD</td>\n",
       "      <td>2015</td>\n",
       "      <td>School, Romance, Supernatural, Harem, Fantasy,...</td>\n",
       "      <td>Arata sẽ bị trục xuất! Cách duy nhất để cứu lấ...</td>\n",
       "      <td>Mùa đông</td>\n",
       "      <td>phim lẻ</td>\n",
       "    </tr>\n",
       "    <tr>\n",
       "      <th>1242</th>\n",
       "      <td>Air Movie</td>\n",
       "      <td>https://animevietsub.page/phim/air-movie-a188/</td>\n",
       "      <td>https://cdn.animevietsub.page/data/poster/2017...</td>\n",
       "      <td>NaN</td>\n",
       "      <td>8.3 trong số 10 dựa trên 3 thành viên đánh giá</td>\n",
       "      <td>24147</td>\n",
       "      <td>HD</td>\n",
       "      <td>2005</td>\n",
       "      <td>Romance, Supernatural, Drama</td>\n",
       "      <td>Nhà sản xuất: Toei Animation, Frontier Works, ...</td>\n",
       "      <td>Mùa đông</td>\n",
       "      <td>phim lẻ</td>\n",
       "    </tr>\n",
       "  </tbody>\n",
       "</table>\n",
       "<p>1243 rows × 12 columns</p>\n",
       "</div>"
      ],
      "text/plain": [
       "                                                  title  \\\n",
       "0                                 5-toubun no Hanayome*   \n",
       "1                      Overlord Movie 3: Sei Oukoku-hen   \n",
       "2                   Digimon Adventure 02: The Beginning   \n",
       "3        Tengen Toppa Gurren Lagann Movie 1: Gurren-hen   \n",
       "4                           Yowamushi Pedal: Spare Bike   \n",
       "...                                                 ...   \n",
       "1238                Bức Thư Từ Thế Giới Bên Kia Special   \n",
       "1239                                  Shisha no Teikoku   \n",
       "1240  Trinity Seven Movie: Eternity Library to Alche...   \n",
       "1241                                      Thất Tinh OVA   \n",
       "1242                                          Air Movie   \n",
       "\n",
       "                                                   link  \\\n",
       "0     https://animevietsub.page/phim/5-toubun-no-han...   \n",
       "1     https://animevietsub.page/phim/overlord-movie-...   \n",
       "2     https://animevietsub.page/phim/digimon-adventu...   \n",
       "3     https://animevietsub.page/phim/tengen-toppa-gu...   \n",
       "4     https://animevietsub.page/phim/yowamushi-pedal...   \n",
       "...                                                 ...   \n",
       "1238  https://animevietsub.page/phim/buc-thu-tu-the-...   \n",
       "1239  https://animevietsub.page/phim/shisha-no-teiko...   \n",
       "1240  https://animevietsub.page/phim/trinity-seven-m...   \n",
       "1241  https://animevietsub.page/phim/that-tinh-ova-i...   \n",
       "1242     https://animevietsub.page/phim/air-movie-a188/   \n",
       "\n",
       "                                                  image episode  \\\n",
       "0     https://cdn.animevietsub.page/data/poster/2024...     NaN   \n",
       "1     https://cdn.animevietsub.page/data/poster/2024...     NaN   \n",
       "2     https://cdn.animevietsub.page/data/poster/2024...     NaN   \n",
       "3     https://cdn.animevietsub.page/data/poster/2024...     NaN   \n",
       "4     https://cdn.animevietsub.page/data/poster/2024...     NaN   \n",
       "...                                                 ...     ...   \n",
       "1238  https://cdn.animevietsub.page/data/poster/2017...     NaN   \n",
       "1239  https://cdn.animevietsub.page/data/poster/2017...     NaN   \n",
       "1240  https://cdn.animevietsub.page/data/poster/2017...     NaN   \n",
       "1241  https://cdn.animevietsub.page/data/poster/2017...     NaN   \n",
       "1242  https://cdn.animevietsub.page/data/poster/2017...     NaN   \n",
       "\n",
       "                                                rating   views quality  year  \\\n",
       "0     9.6 trong số 10 dựa trên 301 thành viên đánh giá  235236      HD  2024   \n",
       "1     9.4 trong số 10 dựa trên 115 thành viên đánh giá  687666     CAM  2024   \n",
       "2       7.3 trong số 10 dựa trên 3 thành viên đánh giá   27447      HD  2023   \n",
       "3         9 trong số 10 dựa trên 9 thành viên đánh giá   37285     FHD  2008   \n",
       "4      7.5 trong số 10 dựa trên 11 thành viên đánh giá   15265     FHD  2016   \n",
       "...                                                ...     ...     ...   ...   \n",
       "1238    9.5 trong số 10 dựa trên 6 thành viên đánh giá   19154      HD  2008   \n",
       "1239   9.3 trong số 10 dựa trên 14 thành viên đánh giá   48964      HD  2015   \n",
       "1240  9.6 trong số 10 dựa trên 109 thành viên đánh giá  425580      BD  2017   \n",
       "1241   9.6 trong số 10 dựa trên 62 thành viên đánh giá  350483      BD  2015   \n",
       "1242    8.3 trong số 10 dựa trên 3 thành viên đánh giá   24147      HD  2005   \n",
       "\n",
       "                                                 genres  \\\n",
       "0               Shounen, School, Romance, Harem, Comedy   \n",
       "1                     Fantasy, Adventure, Magic, Action   \n",
       "2             Fantasy, Drama, Comedy, Adventure, Action   \n",
       "3                                        Sci-Fi, Action   \n",
       "4                        Shounen, Sports, Drama, Action   \n",
       "...                                                 ...   \n",
       "1238            Thriller, Psychological, Fantasy, Drama   \n",
       "1239                  Sci-Fi, Psychological, Historical   \n",
       "1240  Shounen, School, Romance, Harem, Fantasy, Ecch...   \n",
       "1241  School, Romance, Supernatural, Harem, Fantasy,...   \n",
       "1242                       Romance, Supernatural, Drama   \n",
       "\n",
       "                                            description    season     type  \n",
       "0     Chuyến đi tuần trăng mật của Fuutarou Uesugi v...   Mùa thu  phim lẻ  \n",
       "1     Vương quốc thiêng liêng đã trải qua nhiều năm ...   Mùa thu  phim lẻ  \n",
       "2     Hai năm sau trận chiến với Eosmon, Davis Motom...   Mùa thu  phim lẻ  \n",
       "3     Studio hoạt hình Gainax đã giới thiệu một tran...   Mùa thu  phim lẻ  \n",
       "4     Anime chuyển thể từ manga ngoại truyện cùng tê...   Mùa thu  phim lẻ  \n",
       "...                                                 ...       ...      ...  \n",
       "1238                             Tập 13 của Shigofumi .  Mùa đông  phim lẻ  \n",
       "1239  Công nghệ hồi sinh xác chết được phát triển và...  Mùa đông  phim lẻ  \n",
       "1240  Câu chuyện bắt đầu khi Arata vô tình chạm vào ...  Mùa đông  phim lẻ  \n",
       "1241  Arata sẽ bị trục xuất! Cách duy nhất để cứu lấ...  Mùa đông  phim lẻ  \n",
       "1242  Nhà sản xuất: Toei Animation, Frontier Works, ...  Mùa đông  phim lẻ  \n",
       "\n",
       "[1243 rows x 12 columns]"
      ]
     },
     "execution_count": 38,
     "metadata": {},
     "output_type": "execute_result"
    }
   ],
   "source": [
    "data[data['episode'].isnull()]"
   ]
  },
  {
   "cell_type": "markdown",
   "metadata": {},
   "source": [
    "Dựa vào thống kê giá trị của `episode` và xem các giá trị null của `episode`, ta thấy tất cả các giá trị NaN đều là thuộc loại phim lẻ. Nhưng đối với loại phim lẻ thì chỉ là 1 tập vì nếu có phần 2 thì sẽ gọi bằng tên gọi khác nên sẽ thay thế các giá trị NaN bằng 1"
   ]
  },
  {
   "cell_type": "code",
   "execution_count": 39,
   "metadata": {},
   "outputs": [],
   "source": [
    "data['episode'] = data['episode'].fillna(1)"
   ]
  },
  {
   "cell_type": "markdown",
   "metadata": {},
   "source": [
    "#### quality"
   ]
  },
  {
   "cell_type": "code",
   "execution_count": 40,
   "metadata": {},
   "outputs": [
    {
     "data": {
      "text/plain": [
       "quality\n",
       "HD                4397\n",
       "FHD                364\n",
       "BD                 282\n",
       "SD                 231\n",
       "NaN                 42\n",
       "BD/Bluray           36\n",
       "HQ                  23\n",
       "CAM                  2\n",
       "Full HD              2\n",
       "BD Vietsub           1\n",
       "480P                 1\n",
       "OVA BD Vietsub       1\n",
       "CAM HD               1\n",
       "BD FHD               1\n",
       "Bluray Disc          1\n",
       "undefined            1\n",
       "rHD                  1\n",
       "hd                   1\n",
       "26/10/2018           1\n",
       "Name: count, dtype: int64"
      ]
     },
     "execution_count": 40,
     "metadata": {},
     "output_type": "execute_result"
    }
   ],
   "source": [
    "data['quality'].value_counts(dropna=False)"
   ]
  },
  {
   "cell_type": "markdown",
   "metadata": {},
   "source": [
    "có các độ phân giải chưa phù hợp và gọi khác nhau nên sẽ tiếng hành thay thế"
   ]
  },
  {
   "cell_type": "code",
   "execution_count": 41,
   "metadata": {},
   "outputs": [
    {
     "name": "stdout",
     "output_type": "stream",
     "text": [
      "quality\n",
      "HD         4399\n",
      "Full HD     367\n",
      "BD          321\n",
      "SD          232\n",
      "Unknown      44\n",
      "HQ           23\n",
      "CAM           3\n",
      "Name: count, dtype: int64\n"
     ]
    }
   ],
   "source": [
    "# Dựng từ điển để gộp các giá trị tương tự vào nhóm chung\n",
    "quality_mapping = {\n",
    "    'HD': 'HD', 'FHD': 'Full HD', 'Full HD': 'Full HD', 'BD': 'BD', \n",
    "    'BD/Bluray': 'BD', 'HQ': 'HQ', 'SD': 'SD', 'CAM': 'CAM', \n",
    "    'BD Vietsub': 'BD', '480P': 'SD', 'OVA BD Vietsub': 'BD', \n",
    "    'CAM HD': 'CAM', 'BD FHD': 'Full HD', 'Bluray Disc': 'BD', \n",
    "    'rHD': 'HD', 'hd': 'HD', 'NaN': 'Unknown', 'undefined': 'Unknown',\n",
    "    '26/10/2018': 'Unknown'\n",
    "}\n",
    "\n",
    "# Áp dụng từ điển để thay thế các giá trị trong cột 'quality'\n",
    "data['quality'] = data['quality'].replace(quality_mapping)\n",
    "data['quality'] = data['quality'].fillna('Unknown')\n",
    "\n",
    "# Tính lại thống kê số lượng các giá trị trong cột 'quality' sau khi gộp\n",
    "quality_stats = data['quality'].value_counts(dropna=False)\n",
    "\n",
    "# In kết quả thống kê\n",
    "print(quality_stats)"
   ]
  },
  {
   "cell_type": "markdown",
   "metadata": {},
   "source": [
    "#### year"
   ]
  },
  {
   "cell_type": "code",
   "execution_count": 42,
   "metadata": {},
   "outputs": [
    {
     "data": {
      "text/plain": [
       "year\n",
       "2016         351\n",
       "2018         344\n",
       "2021         338\n",
       "2023         329\n",
       "2022         325\n",
       "2024         305\n",
       "2017         303\n",
       "2014         303\n",
       "2015         295\n",
       "2019         288\n",
       "2013         254\n",
       "2020         253\n",
       "2012         224\n",
       "2011         189\n",
       "2009         152\n",
       "2010         152\n",
       "2008         134\n",
       "2007         116\n",
       "2006         108\n",
       "2005          88\n",
       "2004          64\n",
       "2003          51\n",
       "2025          51\n",
       "2002          50\n",
       "2001          35\n",
       "2000          34\n",
       "1999          28\n",
       "1998          27\n",
       "1997          18\n",
       "1994          18\n",
       "1993          15\n",
       "1995          15\n",
       "1996          15\n",
       "1988          14\n",
       "1992          13\n",
       "1989          13\n",
       "NaN           11\n",
       "1987          11\n",
       "1984           7\n",
       "1991           7\n",
       "1986           6\n",
       "1985           6\n",
       "1990           6\n",
       "1983           4\n",
       "1981           4\n",
       "1979           3\n",
       "1982           3\n",
       "1980           2\n",
       "1978           2\n",
       "1971           1\n",
       "2099           1\n",
       "1974           1\n",
       "07 - 2021      1\n",
       "2010-2011      1\n",
       "Name: count, dtype: int64"
      ]
     },
     "execution_count": 42,
     "metadata": {},
     "output_type": "execute_result"
    }
   ],
   "source": [
    "data['year'].value_counts(dropna=False)"
   ]
  },
  {
   "cell_type": "markdown",
   "metadata": {},
   "source": [
    "như vậy có các giá trị chưa hợp lệ như là null, 07 - 2021 và 2010-2011, cách giải quyết như sau:<br>\n",
    "1. null giải quyết bằng thay thế giá trị gần nhất phía dưới (backward fill)\n",
    "2. 07 - 2021 thì thay thế bằng 2021 vì đó chỉ là sai định dạng\n",
    "3. 2010-2011 thì thay thế bằng 2010 vì số lượng 2010 ít hơn 2011 nên thay vào không ảnh hưởng nhiều"
   ]
  },
  {
   "cell_type": "markdown",
   "metadata": {},
   "source": []
  },
  {
   "cell_type": "code",
   "execution_count": 43,
   "metadata": {},
   "outputs": [],
   "source": [
    "data['year'] = data['year'].bfill()\n",
    "data['year'] = data['year'].str.replace('07 - 2021','2021')\n",
    "data['year'] = data['year'].str.replace('2010-2011','2010')"
   ]
  },
  {
   "cell_type": "code",
   "execution_count": 44,
   "metadata": {},
   "outputs": [
    {
     "data": {
      "text/plain": [
       "year\n",
       "2016    352\n",
       "2018    344\n",
       "2021    339\n",
       "2022    330\n",
       "2023    330\n",
       "2024    305\n",
       "2017    303\n",
       "2014    303\n",
       "2015    295\n",
       "2019    288\n",
       "2013    255\n",
       "2020    254\n",
       "2012    224\n",
       "2011    189\n",
       "2010    153\n",
       "2009    152\n",
       "2008    134\n",
       "2007    116\n",
       "2006    109\n",
       "2005     88\n",
       "2004     64\n",
       "2025     51\n",
       "2003     51\n",
       "2002     50\n",
       "2001     35\n",
       "2000     34\n",
       "1999     29\n",
       "1998     27\n",
       "1994     18\n",
       "1997     18\n",
       "1995     15\n",
       "1996     15\n",
       "1993     15\n",
       "1988     14\n",
       "1989     13\n",
       "1992     13\n",
       "1987     11\n",
       "1984      7\n",
       "1991      7\n",
       "1986      6\n",
       "1985      6\n",
       "1990      6\n",
       "1983      4\n",
       "1981      4\n",
       "1979      3\n",
       "1982      3\n",
       "1980      2\n",
       "1978      2\n",
       "1971      1\n",
       "2099      1\n",
       "1974      1\n",
       "Name: count, dtype: int64"
      ]
     },
     "execution_count": 44,
     "metadata": {},
     "output_type": "execute_result"
    }
   ],
   "source": [
    "data['year'].value_counts(dropna=False)"
   ]
  },
  {
   "cell_type": "markdown",
   "metadata": {},
   "source": [
    "#### genres"
   ]
  },
  {
   "cell_type": "code",
   "execution_count": 45,
   "metadata": {},
   "outputs": [
    {
     "name": "stdout",
     "output_type": "stream",
     "text": [
      "Số lượng giá trị null trong cột 'genres': 30\n"
     ]
    }
   ],
   "source": [
    "null_count = data['genres'].isnull().sum()\n",
    "\n",
    "print(f\"Số lượng giá trị null trong cột 'genres': {null_count}\")"
   ]
  },
  {
   "cell_type": "markdown",
   "metadata": {},
   "source": [
    "Vì mục `genres` rất khó xác định được thể loại chính xác nên sẽ thay thế bằng Unknown"
   ]
  },
  {
   "cell_type": "code",
   "execution_count": 46,
   "metadata": {},
   "outputs": [],
   "source": [
    "data['genres'] = data['genres'].fillna('Unknown')"
   ]
  },
  {
   "cell_type": "markdown",
   "metadata": {},
   "source": [
    "#### description"
   ]
  },
  {
   "cell_type": "markdown",
   "metadata": {},
   "source": [
    "Cũng như `genres`, `description` cũng không thể xác định bình thường nên sẽ quy về giá trị đồng nhất là `Đang cập nhật`"
   ]
  },
  {
   "cell_type": "code",
   "execution_count": 47,
   "metadata": {},
   "outputs": [],
   "source": [
    "data['description'] = data['description'].fillna('Đang cập nhật')"
   ]
  },
  {
   "cell_type": "code",
   "execution_count": 48,
   "metadata": {},
   "outputs": [
    {
     "name": "stdout",
     "output_type": "stream",
     "text": [
      "<class 'pandas.core.frame.DataFrame'>\n",
      "RangeIndex: 5389 entries, 0 to 5388\n",
      "Data columns (total 12 columns):\n",
      " #   Column       Non-Null Count  Dtype \n",
      "---  ------       --------------  ----- \n",
      " 0   title        5389 non-null   object\n",
      " 1   link         5389 non-null   object\n",
      " 2   image        5389 non-null   object\n",
      " 3   episode      5389 non-null   object\n",
      " 4   rating       5389 non-null   object\n",
      " 5   views        5389 non-null   object\n",
      " 6   quality      5389 non-null   object\n",
      " 7   year         5389 non-null   object\n",
      " 8   genres       5389 non-null   object\n",
      " 9   description  5389 non-null   object\n",
      " 10  season       5389 non-null   object\n",
      " 11  type         5389 non-null   object\n",
      "dtypes: object(12)\n",
      "memory usage: 505.3+ KB\n"
     ]
    }
   ],
   "source": [
    "data.info()"
   ]
  },
  {
   "cell_type": "markdown",
   "metadata": {},
   "source": [
    "Sau khi kiểm tra lại thì xác nhận toàn bộ dữ liệu đã được xử lý giá trị `null`"
   ]
  },
  {
   "cell_type": "markdown",
   "metadata": {},
   "source": [
    "### Tạo thêm cột dữ liệu"
   ]
  },
  {
   "cell_type": "markdown",
   "metadata": {},
   "source": [
    "Ta sẽ dùng cột `rating` để tạo ra cột `rate` và `nums_of_vote`"
   ]
  },
  {
   "cell_type": "code",
   "execution_count": 49,
   "metadata": {},
   "outputs": [],
   "source": [
    "def extract_rate_and_votes(rating):\n",
    "    match = re.match(r\"([0-9.]+) trong số 10 dựa trên ([0-9,]+) thành viên đánh giá\", rating)\n",
    "    \n",
    "    if match:\n",
    "        rate = float(match.group(1))\n",
    "        nums_of_vote = int(match.group(2).replace(',', ''))\n",
    "        return rate, nums_of_vote\n",
    "    else:\n",
    "        return None, None"
   ]
  },
  {
   "cell_type": "code",
   "execution_count": 50,
   "metadata": {},
   "outputs": [],
   "source": [
    "data[['rate', 'nums_of_vote']] = data['rating'].apply(lambda x: pd.Series(extract_rate_and_votes(x)))"
   ]
  },
  {
   "cell_type": "code",
   "execution_count": 51,
   "metadata": {},
   "outputs": [
    {
     "data": {
      "text/html": [
       "<div>\n",
       "<style scoped>\n",
       "    .dataframe tbody tr th:only-of-type {\n",
       "        vertical-align: middle;\n",
       "    }\n",
       "\n",
       "    .dataframe tbody tr th {\n",
       "        vertical-align: top;\n",
       "    }\n",
       "\n",
       "    .dataframe thead th {\n",
       "        text-align: right;\n",
       "    }\n",
       "</style>\n",
       "<table border=\"1\" class=\"dataframe\">\n",
       "  <thead>\n",
       "    <tr style=\"text-align: right;\">\n",
       "      <th></th>\n",
       "      <th>title</th>\n",
       "      <th>link</th>\n",
       "      <th>image</th>\n",
       "      <th>episode</th>\n",
       "      <th>rating</th>\n",
       "      <th>views</th>\n",
       "      <th>quality</th>\n",
       "      <th>year</th>\n",
       "      <th>genres</th>\n",
       "      <th>description</th>\n",
       "      <th>season</th>\n",
       "      <th>type</th>\n",
       "      <th>rate</th>\n",
       "      <th>nums_of_vote</th>\n",
       "    </tr>\n",
       "  </thead>\n",
       "  <tbody>\n",
       "    <tr>\n",
       "      <th>0</th>\n",
       "      <td>5-toubun no Hanayome*</td>\n",
       "      <td>https://animevietsub.page/phim/5-toubun-no-han...</td>\n",
       "      <td>https://cdn.animevietsub.page/data/poster/2024...</td>\n",
       "      <td>1</td>\n",
       "      <td>9.6 trong số 10 dựa trên 301 thành viên đánh giá</td>\n",
       "      <td>235236</td>\n",
       "      <td>HD</td>\n",
       "      <td>2024</td>\n",
       "      <td>Shounen, School, Romance, Harem, Comedy</td>\n",
       "      <td>Chuyến đi tuần trăng mật của Fuutarou Uesugi v...</td>\n",
       "      <td>Mùa thu</td>\n",
       "      <td>phim lẻ</td>\n",
       "      <td>9.6</td>\n",
       "      <td>301.0</td>\n",
       "    </tr>\n",
       "  </tbody>\n",
       "</table>\n",
       "</div>"
      ],
      "text/plain": [
       "                   title                                               link  \\\n",
       "0  5-toubun no Hanayome*  https://animevietsub.page/phim/5-toubun-no-han...   \n",
       "\n",
       "                                               image episode  \\\n",
       "0  https://cdn.animevietsub.page/data/poster/2024...       1   \n",
       "\n",
       "                                             rating   views quality  year  \\\n",
       "0  9.6 trong số 10 dựa trên 301 thành viên đánh giá  235236      HD  2024   \n",
       "\n",
       "                                    genres  \\\n",
       "0  Shounen, School, Romance, Harem, Comedy   \n",
       "\n",
       "                                         description   season     type  rate  \\\n",
       "0  Chuyến đi tuần trăng mật của Fuutarou Uesugi v...  Mùa thu  phim lẻ   9.6   \n",
       "\n",
       "   nums_of_vote  \n",
       "0         301.0  "
      ]
     },
     "execution_count": 51,
     "metadata": {},
     "output_type": "execute_result"
    }
   ],
   "source": [
    "data.head(1)"
   ]
  },
  {
   "cell_type": "code",
   "execution_count": 52,
   "metadata": {},
   "outputs": [
    {
     "name": "stdout",
     "output_type": "stream",
     "text": [
      "<class 'pandas.core.frame.DataFrame'>\n",
      "RangeIndex: 5389 entries, 0 to 5388\n",
      "Data columns (total 14 columns):\n",
      " #   Column        Non-Null Count  Dtype  \n",
      "---  ------        --------------  -----  \n",
      " 0   title         5389 non-null   object \n",
      " 1   link          5389 non-null   object \n",
      " 2   image         5389 non-null   object \n",
      " 3   episode       5389 non-null   object \n",
      " 4   rating        5389 non-null   object \n",
      " 5   views         5389 non-null   object \n",
      " 6   quality       5389 non-null   object \n",
      " 7   year          5389 non-null   object \n",
      " 8   genres        5389 non-null   object \n",
      " 9   description   5389 non-null   object \n",
      " 10  season        5389 non-null   object \n",
      " 11  type          5389 non-null   object \n",
      " 12  rate          5389 non-null   float64\n",
      " 13  nums_of_vote  5389 non-null   float64\n",
      "dtypes: float64(2), object(12)\n",
      "memory usage: 589.5+ KB\n"
     ]
    }
   ],
   "source": [
    "data.info()"
   ]
  },
  {
   "cell_type": "markdown",
   "metadata": {},
   "source": [
    "### Xử lý kiểu dữ liệu"
   ]
  },
  {
   "cell_type": "markdown",
   "metadata": {},
   "source": [
    "Các trường `views`, `nums_of_vote` là kiểu `int`"
   ]
  },
  {
   "cell_type": "code",
   "execution_count": 53,
   "metadata": {},
   "outputs": [],
   "source": [
    "data['views'] = data['views'].astype(int)\n",
    "data['nums_of_vote'] = data['nums_of_vote'].astype(int)"
   ]
  },
  {
   "cell_type": "code",
   "execution_count": 54,
   "metadata": {},
   "outputs": [
    {
     "name": "stdout",
     "output_type": "stream",
     "text": [
      "<class 'pandas.core.frame.DataFrame'>\n",
      "RangeIndex: 5389 entries, 0 to 5388\n",
      "Data columns (total 14 columns):\n",
      " #   Column        Non-Null Count  Dtype  \n",
      "---  ------        --------------  -----  \n",
      " 0   title         5389 non-null   object \n",
      " 1   link          5389 non-null   object \n",
      " 2   image         5389 non-null   object \n",
      " 3   episode       5389 non-null   object \n",
      " 4   rating        5389 non-null   object \n",
      " 5   views         5389 non-null   int64  \n",
      " 6   quality       5389 non-null   object \n",
      " 7   year          5389 non-null   object \n",
      " 8   genres        5389 non-null   object \n",
      " 9   description   5389 non-null   object \n",
      " 10  season        5389 non-null   object \n",
      " 11  type          5389 non-null   object \n",
      " 12  rate          5389 non-null   float64\n",
      " 13  nums_of_vote  5389 non-null   int64  \n",
      "dtypes: float64(1), int64(2), object(11)\n",
      "memory usage: 589.5+ KB\n"
     ]
    }
   ],
   "source": [
    "data.info()"
   ]
  },
  {
   "cell_type": "code",
   "execution_count": 55,
   "metadata": {},
   "outputs": [
    {
     "name": "stdout",
     "output_type": "stream",
     "text": [
      "Thư mục './data/cleaned/' đã được tạo hoặc đã tồn tại.\n"
     ]
    }
   ],
   "source": [
    "os.makedirs(cleaned_data_path, exist_ok=True)\n",
    "print(f\"Thư mục '{cleaned_data_path}' đã được tạo hoặc đã tồn tại.\")"
   ]
  },
  {
   "cell_type": "code",
   "execution_count": 56,
   "metadata": {},
   "outputs": [
    {
     "name": "stdout",
     "output_type": "stream",
     "text": [
      "Dữ liệu đã được lưu vào: ./data/cleaned/anime_data_cleaned.csv\n"
     ]
    }
   ],
   "source": [
    "data.to_csv(csv_file_path, index=False)\n",
    "print(f\"Dữ liệu đã được lưu vào: {csv_file_path}\")"
   ]
  }
 ],
 "metadata": {
  "kernelspec": {
   "display_name": "venv",
   "language": "python",
   "name": "python3"
  },
  "language_info": {
   "codemirror_mode": {
    "name": "ipython",
    "version": 3
   },
   "file_extension": ".py",
   "mimetype": "text/x-python",
   "name": "python",
   "nbconvert_exporter": "python",
   "pygments_lexer": "ipython3",
   "version": "3.10.6"
  }
 },
 "nbformat": 4,
 "nbformat_minor": 2
}
