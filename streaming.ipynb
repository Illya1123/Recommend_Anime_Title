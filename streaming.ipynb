{
 "cells": [
  {
   "cell_type": "code",
   "execution_count": 1,
   "metadata": {},
   "outputs": [],
   "source": [
    "from kafka import KafkaConsumer\n",
    "import json\n",
    "from pyspark.sql import SparkSession\n",
    "from pyspark.ml.feature import CountVectorizer, CountVectorizerModel, StringIndexer\n",
    "from pyspark.ml.linalg import DenseVector\n",
    "from pyspark.sql.functions import col, split\n",
    "from pyspark.ml import Pipeline"
   ]
  },
  {
   "cell_type": "code",
   "execution_count": 2,
   "metadata": {},
   "outputs": [],
   "source": [
    "kafka_bootstrap_servers = 'localhost:9092'\n",
    "kafka_topic = 'anime_topic'"
   ]
  },
  {
   "cell_type": "code",
   "execution_count": 3,
   "metadata": {},
   "outputs": [],
   "source": [
    "consumer = KafkaConsumer(\n",
    "    kafka_topic,\n",
    "    bootstrap_servers=kafka_bootstrap_servers,\n",
    "    value_deserializer=lambda m: json.loads(m.decode('utf-8')),\n",
    "    group_id='anime-consumer-group'\n",
    ")"
   ]
  },
  {
   "cell_type": "code",
   "execution_count": 4,
   "metadata": {},
   "outputs": [],
   "source": [
    "spark = SparkSession.builder \\\n",
    "    .appName(\"Content-Based Filtering\") \\\n",
    "    .getOrCreate()"
   ]
  },
  {
   "cell_type": "code",
   "execution_count": 5,
   "metadata": {},
   "outputs": [],
   "source": [
    "model_path = \"./models/genre_vectorizer\"\n",
    "count_vectorizer_model = CountVectorizerModel.load(model_path)"
   ]
  },
  {
   "cell_type": "code",
   "execution_count": 6,
   "metadata": {},
   "outputs": [],
   "source": [
    "data_path = \"./data/cleaned/anime_data_cleaned.csv\"\n",
    "data = spark.read.csv(data_path, header=True, inferSchema=True)\n",
    "data = data.dropna(subset=['link', 'title', 'genres', 'rate'])\n",
    "data = data.withColumnRenamed('link', 'item_id')\n",
    "data = data.withColumn(\"rate\", col(\"rate\").cast(\"double\"))\n",
    "data = data.withColumn(\"genres\", split(col(\"genres\"), \",\"))\n",
    "\n",
    "data = count_vectorizer_model.transform(data)"
   ]
  },
  {
   "cell_type": "code",
   "execution_count": 7,
   "metadata": {},
   "outputs": [],
   "source": [
    "item_indexer = StringIndexer(inputCol=\"item_id\", outputCol=\"item_index\")\n",
    "preprocessing_pipeline = Pipeline(stages=[item_indexer])\n",
    "preprocessed_pipeline_model = preprocessing_pipeline.fit(data)\n",
    "preprocessed_data = preprocessed_pipeline_model.transform(data)"
   ]
  },
  {
   "cell_type": "code",
   "execution_count": 8,
   "metadata": {},
   "outputs": [],
   "source": [
    "def recommend_by_title(title, top_n=5):\n",
    "    item_data = preprocessed_data.filter(col(\"title\") == title).select(\"item_id\", \"genre_vector\", \"genres\").first()\n",
    "    if not item_data:\n",
    "        print(f\"No anime found with title: {title}\")\n",
    "        return\n",
    "\n",
    "    item_id = item_data[\"item_id\"]\n",
    "    genre_vector = DenseVector(item_data[\"genre_vector\"].toArray())\n",
    "\n",
    "    broadcast_genre_vector = spark.sparkContext.broadcast(genre_vector)\n",
    "\n",
    "    def calculate_similarity(row):\n",
    "        target_vector = broadcast_genre_vector.value\n",
    "        row_vector = DenseVector(row.genre_vector.toArray())\n",
    "        dot_product = sum(target_vector[i] * row_vector[i] for i in range(len(target_vector)))\n",
    "        norm_target = sum(x ** 2 for x in target_vector) ** 0.5\n",
    "        norm_row = sum(x ** 2 for x in row_vector) ** 0.5\n",
    "        similarity = dot_product / (norm_target * norm_row) if norm_target and norm_row else 0.0\n",
    "        return row.title, row.item_id, row.genres, similarity\n",
    "\n",
    "    similar_items_rdd = preprocessed_data.rdd.map(calculate_similarity)\n",
    "\n",
    "    similar_items = similar_items_rdd.filter(lambda x: x[1] != item_id).takeOrdered(top_n, key=lambda x: -x[3])\n",
    "\n",
    "    for title, item_id, genres, similarity in similar_items:\n",
    "        print(f\"Title: {title}, Link: {item_id}, Genres: {genres}, Similarity: {similarity}\")\n"
   ]
  },
  {
   "cell_type": "code",
   "execution_count": 9,
   "metadata": {},
   "outputs": [
    {
     "name": "stdout",
     "output_type": "stream",
     "text": [
      "Consumed record from Kafka: {'item_id': 'https://animevietsub.page/phim/5-toubun-no-hanayome-a5530/', 'title': '5-toubun no Hanayome*', 'genres': ['Shounen', ' School', ' Romance', ' Harem', ' Comedy'], 'rate': 9.6}\n",
      "Recommendation after watch:  5-toubun no Hanayome*\n",
      "Title: Nhà Có Năm Nàng Dâu Movie, Link: https://animevietsub.page/phim/5-toubun-no-hanayome-movie-a4247/, Genres: ['Shounen', ' School', ' Romance', ' Harem', ' Comedy'], Similarity: 0.9999999999999998\n",
      "Title: 5-toubun no Hanayome∽, Link: https://animevietsub.page/phim/5-toubun-no-hanayome-a4995/, Genres: ['Shounen', ' School', ' Romance', ' Harem', ' Comedy'], Similarity: 0.9999999999999998\n",
      "Title: Masamune-kun no Revenge OVA, Link: https://animevietsub.page/phim/masamune-kun-no-revenge-ova-a3193/, Genres: ['Shounen', ' School', ' Romance', ' Harem', ' Comedy'], Similarity: 0.9999999999999998\n",
      "Title: Có Bạn Gái  Lại Thêm Bạn Gái Mùa 2, Link: https://animevietsub.page/phim/kanojo-mo-kanojo-2nd-season-a5069/, Genres: ['Shounen', ' School', ' Romance', ' Harem', ' Comedy'], Similarity: 0.9999999999999998\n",
      "Title: Chúng Tôi Không Thể Học Phần 2, Link: https://animevietsub.page/phim/bokutachi-wa-benkyou-ga-dekinai-2-a3622/, Genres: ['Shounen', ' School', ' Romance', ' Harem', ' Comedy'], Similarity: 0.9999999999999998\n",
      "Consumed record from Kafka: {'item_id': 'https://animevietsub.page/phim/overlord-movie-3-sei-oukoku-hen-a5360/', 'title': 'Overlord Movie 3: Sei Oukoku-hen', 'genres': ['Fantasy', ' Adventure', ' Magic', ' Action'], 'rate': 9.4}\n",
      "Recommendation after watch:  Overlord Movie 3: Sei Oukoku-hen\n",
      "Title: Ta ga Tame no Alchemist, Link: https://animevietsub.page/phim/ta-ga-tame-no-alchemist-a3838/, Genres: ['Fantasy', ' Adventure', ' Magic', ' Action'], Similarity: 1.0\n",
      "Title: Ni no Kuni, Link: https://animevietsub.page/phim/ni-no-kuni-a3753/, Genres: ['Fantasy', ' Adventure', ' Magic', ' Action'], Similarity: 1.0\n",
      "Title: King's Raid: Ishi wo Tsugumono-tachi, Link: https://animevietsub.page/phim/kings-raid-ishi-wo-tsugumono-tachi-a3889/, Genres: ['Fantasy', ' Adventure', ' Magic', ' Action'], Similarity: 1.0\n",
      "Title: Radiant 2nd Season, Link: https://animevietsub.page/phim/radiant-2nd-season-a3635/, Genres: ['Fantasy', ' Adventure', ' Magic', ' Action'], Similarity: 1.0\n",
      "Title: Hangyakusei Million Arthur, Link: https://animevietsub.page/phim/hangyakusei-million-arthur-a3309/, Genres: ['Fantasy', ' Adventure', ' Magic', ' Action'], Similarity: 1.0\n",
      "Consumed record from Kafka: {'item_id': 'https://animevietsub.page/phim/digimon-adventure-02-the-beginning-a5439/', 'title': 'Digimon Adventure 02: The Beginning', 'genres': ['Fantasy', ' Drama', ' Comedy', ' Adventure', ' Action'], 'rate': 7.3}\n",
      "Recommendation after watch:  Digimon Adventure 02: The Beginning\n",
      "Title: Digimon Adventure 02, Link: https://animevietsub.page/phim/digimon-adventure-02-a751/, Genres: ['Fantasy', ' Drama', ' Comedy', ' Adventure', ' Kids', ' Action'], Similarity: 0.9128709291752769\n",
      "Title: Pokemon Movie 16: Genesect Và Huyền Thoại Thức Tỉnh, Link: https://animevietsub.page/phim/pokemon-movie-16-genesect-va-huyen-thoai-thuc-tinh-a2176/, Genres: ['Fantasy', ' Drama', ' Comedy', ' Adventure', ' Kids', ' Action'], Similarity: 0.9128709291752769\n",
      "Title: Chiisana Eiyuu: Kani to Tamago to Toumei Ningen, Link: https://animevietsub.page/phim/chiisana-eiyuu-kani-to-tamago-to-toumei-ningen-a3477/, Genres: ['Fantasy', ' Drama', ' Adventure', ' Action'], Similarity: 0.8944271909999159\n",
      "Title: Tôi Từ Bỏ Tư Cách Là Một Anh Hùng: Hồi Tưởng, Link: https://animevietsub.page/phim/yuusha-yamemasu-kenshuu-ryokou-wa-mokuteki-wo-miushinau-na-a4620/, Genres: ['Fantasy', ' Comedy', ' Adventure', ' Action'], Similarity: 0.8944271909999159\n",
      "Title: Dragon Ball: Sự trở lại của Son Goku và những người bạn!!, Link: https://animevietsub.page/phim/dragon-ball-su-tro-lai-cua-son-goku-va-nhung-nguoi-ban-r1-a983/, Genres: ['Fantasy', ' Comedy', ' Adventure', ' Action'], Similarity: 0.8944271909999159\n",
      "Consumed record from Kafka: {'item_id': 'https://animevietsub.page/phim/tengen-toppa-gurren-lagann-movie-1-gurren-hen-a5401/', 'title': 'Tengen Toppa Gurren Lagann Movie 1: Gurren-hen', 'genres': ['Sci-Fi', ' Action'], 'rate': 9.0}\n",
      "Recommendation after watch:  Tengen Toppa Gurren Lagann Movie 1: Gurren-hen\n",
      "Title: Cencoroll Connect, Link: https://animevietsub.page/phim/cencoroll-connect-r1-a3750/, Genres: ['Sci-Fi', ' Action'], Similarity: 0.9999999999999998\n",
      "Title: Nữ Thánh Binh Moon Angel, Link: https://animevietsub.page/phim/nu-thanh-binh-moon-angel-a559/, Genres: ['Sci-Fi', ' Action'], Similarity: 0.9999999999999998\n",
      "Title: Promare: Galo-hen, Link: https://animevietsub.page/phim/promare-galo-hen-a4746/, Genres: ['Sci-Fi', ' Action'], Similarity: 0.9999999999999998\n",
      "Title: Promare: Lio-hen, Link: https://animevietsub.page/phim/promare-lio-hen-a4745/, Genres: ['Sci-Fi', ' Action'], Similarity: 0.9999999999999998\n",
      "Title: Promare, Link: https://animevietsub.page/phim/promare-a4744/, Genres: ['Sci-Fi', ' Action'], Similarity: 0.9999999999999998\n",
      "Consumed record from Kafka: {'item_id': 'https://animevietsub.page/phim/yowamushi-pedal-spare-bike-a5377/', 'title': 'Yowamushi Pedal: Spare Bike', 'genres': ['Shounen', ' Sports', ' Drama', ' Action'], 'rate': 7.5}\n",
      "Recommendation after watch:  Yowamushi Pedal: Spare Bike\n",
      "Title: Yowamushi Pedal: Re:Road, Link: https://animevietsub.page/phim/yowamushi-pedal-reroad-a5375/, Genres: ['Shounen', ' Sports', ' Drama', ' Action'], Similarity: 1.0\n",
      "Title: Yowamushi Pedal Movie, Link: https://animevietsub.page/phim/yowamushi-pedal-movie-a5376/, Genres: ['Shounen', ' Sports', ' Drama', ' Action'], Similarity: 1.0\n",
      "Title: Mặt nạ hổ, Link: https://animevietsub.page/phim/mat-na-ho-a2566/, Genres: ['Shounen', ' Sports', ' Drama', ' Action'], Similarity: 1.0\n",
      "Title: Tay Đấm Tối Thượng, Link: https://animevietsub.page/phim/tay-dam-toi-thuong-a3024/, Genres: ['Shounen', ' Slice of Life', ' Sports', ' Drama', ' Action'], Similarity: 0.8944271909999159\n",
      "Title: Boku no Hero Academia: HLB, Link: https://animevietsub.page/phim/boku-no-hero-academia-hlb-i1-a4676/, Genres: ['Shounen', ' Sports', ' Action'], Similarity: 0.8660254037844387\n",
      "Consumed record from Kafka: {'item_id': 'https://animevietsub.page/phim/pretty-series-10th-anniversary-a5364/', 'title': 'Pretty Series 10th Anniversary', 'genres': ['Unknown'], 'rate': 9.2}\n",
      "Recommendation after watch:  Pretty Series 10th Anniversary\n",
      "Title: Hùng Sư Thiếu Niên, Link: https://animevietsub.page/phim/hung-su-thieu-nien-i1-a4527/, Genres: ['Unknown'], Similarity: 1.0\n",
      "Title: Thám Tử Lừng Danh Conan Các Phần Đặc Biệt, Link: https://animevietsub.page/phim/tham-tu-lung-danh-conan-cac-phan-dac-biet-a669/, Genres: ['Unknown'], Similarity: 1.0\n",
      "Title: New Initial D Movie: Legend 2 - Tousou, Link: https://animevietsub.page/phim/new-initial-d-movie-legend-2-tousou-a5278/, Genres: ['Unknown'], Similarity: 1.0\n",
      "Title: Bạch Xà, Link: https://animevietsub.page/phim/bach-xa-a3432/, Genres: ['Unknown'], Similarity: 1.0\n",
      "Title: Kamen Rider Build NEW WORLD: Kamen Rider Cross-Z (2019), Link: https://animevietsub.page/phim/kamen-rider-build-new-world-kamen-rider-cross-z-2019-a3414/, Genres: ['Unknown'], Similarity: 1.0\n",
      "Consumed record from Kafka: {'item_id': 'https://animevietsub.page/phim/madogiwa-no-totto-chan-a5334/', 'title': 'Totto-chan: Cô Bé Bên Cửa Sổ', 'genres': ['Historical'], 'rate': 9.6}\n",
      "Recommendation after watch:  Totto-chan: Cô Bé Bên Cửa Sổ\n",
      "Title: Onimusha, Link: https://animevietsub.page/phim/onimusha-a5359/, Genres: ['Historical'], Similarity: 1.0\n",
      "Title: Meiji Gekken: 1874, Link: https://animevietsub.page/phim/meiji-gekken-1874-a5187/, Genres: ['Historical'], Similarity: 1.0\n",
      "Title: The Cockpit, Link: https://animevietsub.page/phim/the-cockpit-a4770/, Genres: ['Historical', ' Military'], Similarity: 0.7071067811865475\n",
      "Title: Tiêu Nhân, Link: https://animevietsub.page/phim/tieu-nhan-a4992/, Genres: ['Historical', ' Action'], Similarity: 0.7071067811865475\n",
      "Title: Kiếm Vương Triều, Link: https://animevietsub.page/phim/kiem-vuong-trieu-sword-dynasty-a3189/, Genres: ['Historical', ' Action'], Similarity: 0.7071067811865475\n",
      "Consumed record from Kafka: {'item_id': 'https://animevietsub.page/phim/fragtime-a5333/', 'title': 'Fragtime', 'genres': ['Slice of Life', ' Sci-Fi', ' School', ' Supernatural', ' Romance'], 'rate': 9.5}\n",
      "Recommendation after watch:  Fragtime\n",
      "Title: Ojou to Banken-kun, Link: https://animevietsub.page/phim/ojou-to-banken-kun-a5055/, Genres: ['Slice of Life', ' Shoujo', ' School', ' Romance'], Similarity: 0.6708203932499369\n",
      "Title: Adachi to Shimamura, Link: https://animevietsub.page/phim/adachi-to-shimamura-a3894/, Genres: ['Slice of Life', ' Shoujo Ai', ' School', ' Romance'], Similarity: 0.6708203932499369\n",
      "Title: Con Đường Mùa Xuân OVA, Link: https://animevietsub.page/phim/con-duong-mua-xuan-ova-i6-a347/, Genres: ['Slice of Life', ' Shoujo', ' School', ' Romance'], Similarity: 0.6708203932499369\n",
      "Title: Hananoi Và Triệu Chứng Tình Yêu, Link: https://animevietsub.page/phim/hananoi-kun-to-koi-no-yamai-a5208/, Genres: ['Slice of Life', ' Shoujo', ' School', ' Romance'], Similarity: 0.6708203932499369\n",
      "Title: Boku no Kokoro no Yabai Yatsu, Link: https://animevietsub.page/phim/boku-no-kokoro-no-yabai-yatsu-a4907/, Genres: ['Slice of Life', ' School', ' Romance', ' Comedy'], Similarity: 0.6708203932499369\n",
      "Consumed record from Kafka: {'item_id': 'https://animevietsub.page/phim/shin-cau-be-but-chi-movie-31-dai-chien-sieu-nang-luc-sushi-bay-a5129/', 'title': 'Shin Cậu Bé Bút Chì Movie 31: Đại Chiến Siêu Năng Lực Sushi Bay', 'genres': ['Comedy', ' Adventure'], 'rate': 9.6}\n",
      "Recommendation after watch:  Shin Cậu Bé Bút Chì Movie 31: Đại Chiến Siêu Năng Lực Sushi Bay\n",
      "Title: Zootopia, Link: https://animevietsub.page/phim/zootopia-a205/, Genres: ['Comedy', ' Adventure'], Similarity: 0.9999999999999998\n",
      "Title: Doraemon Movie 13: Nobita to Kumo no Oukoku, Link: https://animevietsub.page/phim/doraemon-movie-13-nobita-to-kumo-no-oukoku-a945/, Genres: ['Comedy', ' Adventure'], Similarity: 0.9999999999999998\n",
      "Title: Doraemon Movie 01: Nobita no Kyouryuu, Link: https://animevietsub.page/phim/doraemon-movie-01-nobita-no-kyouryuu-a927/, Genres: ['Comedy', ' Adventure'], Similarity: 0.9999999999999998\n",
      "Title: Xiong Chumo Zhi: Xue Ling Xiong Feng, Link: https://animevietsub.page/phim/xiong-chumo-zhi-xue-ling-xiong-feng-a1195/, Genres: ['Comedy', ' Adventure'], Similarity: 0.9999999999999998\n",
      "Title: Những Cô Nàng Thú Đáng Yêu 2, Link: https://animevietsub.page/phim/nhung-co-nang-thu-dang-yeu-2-a3386/, Genres: ['Comedy', ' Adventure'], Similarity: 0.9999999999999998\n",
      "Consumed record from Kafka: {'item_id': 'https://animevietsub.page/phim/precure-all-stars-movie-f-a5231/', 'title': 'Precure All Stars Movie F', 'genres': ['Shoujo', ' Fantasy', ' Magic', ' Action'], 'rate': 9.4}\n",
      "Recommendation after watch:  Precure All Stars Movie F\n",
      "Title: Precure Miracle Leap Movie: Minna to no Fushigi na Ichinichi, Link: https://animevietsub.page/phim/precure-miracle-leap-movie-minna-to-no-fushigi-na-ichinichi-a4302/, Genres: ['Shoujo', ' Fantasy', ' Magic', ' Action'], Similarity: 1.0\n",
      "Title: Healin' Good♡Precure Movie: Yume no Machi de Kyun! Tto GoGo! Dai Henshin!!, Link: https://animevietsub.page/phim/healin-goodprecure-movie-yume-no-machi-de-kyun-tto-gogo-dai-henshin-a4250/, Genres: ['Shoujo', ' Fantasy', ' Magic', ' Action'], Similarity: 1.0\n",
      "Title: Hug tto! Precure♡Futari wa Precure Movie: All Stars Memories, Link: https://animevietsub.page/phim/hug-tto-precurefutari-wa-precure-movie-all-stars-memories-a3408/, Genres: ['Shoujo', ' Fantasy', ' Magic', ' Action'], Similarity: 1.0\n",
      "Title: Star☆Twinkle Precure, Link: https://animevietsub.page/phim/startwinkle-precure-a3394/, Genres: ['Shoujo', ' Fantasy', ' Magic', ' Action'], Similarity: 1.0\n",
      "Title: Dokidoki! Precure, Link: https://animevietsub.page/phim/dokidoki-precure-a579/, Genres: ['Shoujo', ' Fantasy', ' Magic', ' Action'], Similarity: 1.0\n",
      "Consumed record from Kafka: {'item_id': 'https://animevietsub.page/phim/alice-to-therese-no-maboroshi-koujou-a5188/', 'title': 'Alice to Therese no Maboroshi Koujou', 'genres': ['Sci-Fi', ' Romance', ' Drama'], 'rate': 9.5}\n",
      "Recommendation after watch:  Alice to Therese no Maboroshi Koujou\n",
      "Title: Ký ức người máy, Link: https://animevietsub.page/phim/ky-uc-nguoi-may-i1-a2172/, Genres: ['Sci-Fi', ' Romance', ' Drama'], Similarity: 1.0000000000000002\n",
      "Title: Atri: My Dear Moments, Link: https://animevietsub.page/phim/atri-my-dear-moments-a5314/, Genres: ['Sci-Fi', ' Romance', ' Drama'], Similarity: 1.0000000000000002\n",
      "Title: Sekai ga Horobiru Mae ni Kimi ni Aitai, Link: https://animevietsub.page/phim/sekai-ga-horobiru-mae-ni-kimi-ni-aitai-a5379/, Genres: ['Sci-Fi', ' Romance', ' Drama'], Similarity: 1.0000000000000002\n",
      "Title: Iriya no Sora  UFO no Natsu, Link: https://animevietsub.page/phim/iriya-no-sora-ufo-no-natsu-a1256/, Genres: ['Sci-Fi', ' Romance', ' Drama'], Similarity: 1.0000000000000002\n",
      "Title: Natsu e no Tunnel  Sayonara no Deguchi, Link: https://animevietsub.page/phim/natsu-e-no-tunnel-sayonara-no-deguchi-a4804/, Genres: ['Sci-Fi', ' Romance', ' Drama', ' Mystery'], Similarity: 0.8660254037844387\n",
      "Consumed record from Kafka: {'item_id': 'https://animevietsub.page/phim/boku-no-hero-academia-ua-heroes-battle-a5134/', 'title': 'Boku no Hero Academia: UA Heroes Battle', 'genres': ['Shounen', ' School', ' Super Power', ' Comedy', ' Action'], 'rate': 8.6}\n",
      "Recommendation after watch:  Boku no Hero Academia: UA Heroes Battle\n",
      "Title: Boku no Hero Academia: Memories, Link: https://animevietsub.page/phim/boku-no-hero-academia-memories-a5275/, Genres: ['Shounen', ' School', ' Super Power', ' Comedy', ' Action'], Similarity: 0.9999999999999998\n",
      "Title: Boku no Hero Academia the Movie: Futari no Hero, Link: https://animevietsub.page/phim/boku-no-hero-academia-the-movie-futari-no-hero-i1-a3407/, Genres: ['Shounen', ' School', ' Super Power', ' Comedy', ' Action'], Similarity: 0.9999999999999998\n",
      "Title: Học viện anh hùng: Nhiệm vụ giải cứu thế giới, Link: https://animevietsub.page/phim/hoc-vien-anh-hung-nhiem-vu-giai-cuu-the-gioi-a4085/, Genres: ['Shounen', ' School', ' Super Power', ' Comedy', ' Action'], Similarity: 0.9999999999999998\n",
      "Title: Học Viện Anh Hùng OVA, Link: https://animevietsub.page/phim/hoc-vien-anh-hung-ova-a503/, Genres: ['Shounen', ' School', ' Super Power', ' Comedy', ' Action'], Similarity: 0.9999999999999998\n",
      "Title: Học Viện Anh Hùng Mùa 4, Link: https://animevietsub.page/phim/boku-no-hero-academia-4th-season-i4-a3618/, Genres: ['Shounen', ' School', ' Super Power', ' Comedy', ' Action'], Similarity: 0.9999999999999998\n",
      "Consumed record from Kafka: {'item_id': 'https://animevietsub.page/phim/tensei-shitara-slime-datta-ken-coleus-no-yume-a5118/', 'title': 'Tensei shitara Slime Datta Ken: Coleus no Yume', 'genres': ['Shounen', ' Fantasy', ' Comedy', ' Adventure', ' Action'], 'rate': 9.3}\n",
      "Recommendation after watch:  Tensei shitara Slime Datta Ken: Coleus no Yume\n",
      "Title: Naruto: Sức Mạnh Vĩ Thú Movie 1, Link: https://animevietsub.page/phim/naruto-suc-manh-vi-thu-movie-1-a521/, Genres: ['Shounen', ' Fantasy', ' Comedy', ' Adventure', ' Action'], Similarity: 0.9999999999999998\n",
      "Title: One Piece 3D: Mugiwara Chase, Link: https://animevietsub.page/phim/one-piece-3d-mugiwara-chase-i3-a2067/, Genres: ['Shounen', ' Fantasy', ' Comedy', ' Adventure', ' Action'], Similarity: 0.9999999999999998\n",
      "Title: Hitsugi no Chaika OVA, Link: https://animevietsub.page/phim/hitsugi-no-chaika-ova-i3-a2024/, Genres: ['Shounen', ' Fantasy', ' Comedy', ' Adventure', ' Action'], Similarity: 0.9999999999999998\n",
      "Title: Thợ Săn Ẩm Thực, Link: https://animevietsub.page/phim/tho-san-am-thuc-a2605/, Genres: ['Shounen', ' Fantasy', ' Comedy', ' Adventure', ' Action'], Similarity: 0.9999999999999998\n",
      "Title: Digimon Xros Wars: Toki wo Kakeru Shounen Hunter-tachi, Link: https://animevietsub.page/phim/digimon-xros-wars-toki-wo-kakeru-shounen-hunter-tachi-a758/, Genres: ['Shounen', ' Fantasy', ' Comedy', ' Adventure', ' Action'], Similarity: 0.9999999999999998\n",
      "Consumed record from Kafka: {'item_id': 'https://animevietsub.page/phim/nanatsu-no-taizai-ensa-no-edinburgh-a4867/', 'title': 'Nanatsu no Taizai: Ensa no Edinburgh', 'genres': ['Shounen', ' Supernatural', ' Fantasy', ' Adventure', ' Magic', ' Action'], 'rate': 5.2}\n",
      "Recommendation after watch:  Nanatsu no Taizai: Ensa no Edinburgh\n",
      "Title: Nanatsu no Taizai Movie: Tenkuu no Torawarebito, Link: https://animevietsub.page/phim/nanatsu-no-taizai-movie-tenkuu-no-torawarebito-a3375/, Genres: ['Shounen', ' Supernatural', ' Fantasy', ' Adventure', ' Magic', ' Action'], Similarity: 1.0000000000000002\n",
      "Title: Nanatsu no Taizai: Kamigami no Gekirin, Link: https://animevietsub.page/phim/nanatsu-no-taizai-kamigami-no-gekirin-a3619/, Genres: ['Shounen', ' Supernatural', ' Fantasy', ' Adventure', ' Magic', ' Action'], Similarity: 1.0000000000000002\n",
      "Title: Nanatsu no Taizai: Fundo no Shinpan, Link: https://animevietsub.page/phim/nanatsu-no-taizai-fundo-no-shinpan-a3942/, Genres: ['Shounen', ' Supernatural', ' Fantasy', ' Adventure', ' Magic', ' Action'], Similarity: 1.0000000000000002\n",
      "Title: Lodoss-tou Senki, Link: https://animevietsub.page/phim/lodoss-tou-senki-a1670/, Genres: ['Shounen', ' Supernatural', ' Fantasy', ' Adventure', ' Magic', ' Action'], Similarity: 1.0000000000000002\n",
      "Title: Tsubasa Chronicle, Link: https://animevietsub.page/phim/tsubasa-chronicle-a2637/, Genres: ['Shounen', ' Romance', ' Supernatural', ' Fantasy', ' Adventure', ' Magic', ' Action'], Similarity: 0.9258200997725514\n",
      "Consumed record from Kafka: {'item_id': 'https://animevietsub.page/phim/suzume-no-tojimari-a4555/', 'title': 'Khóa Chặt Cửa Nào Suzume', 'genres': ['Fantasy', ' Adventure'], 'rate': 9.7}\n",
      "Recommendation after watch:  Khóa Chặt Cửa Nào Suzume\n",
      "Title: Birthday Wonderland, Link: https://animevietsub.page/phim/birthday-wonderland-i1-a3746/, Genres: ['Fantasy', ' Adventure'], Similarity: 0.9999999999999998\n",
      "Title: Jungle Taitei: Yuuki ga Mirai wo Kaeru, Link: https://animevietsub.page/phim/jungle-taitei-yuuki-ga-mirai-wo-kaeru-i3-a1299/, Genres: ['Fantasy', ' Adventure'], Similarity: 0.9999999999999998\n",
      "Title: Ame wo Tsugeru Hyouryuu Danchi, Link: https://animevietsub.page/phim/ame-wo-tsugeru-hyouryuu-danchi-a4740/, Genres: ['Fantasy', ' Adventure'], Similarity: 0.9999999999999998\n",
      "Title: Tế Công - Hàng Long Giáng Thế, Link: https://animevietsub.page/phim/te-cong-hang-long-giang-the-a4445/, Genres: ['Fantasy', ' Adventure'], Similarity: 0.9999999999999998\n",
      "Title: Nàng Tiên Cá Phương Đông, Link: https://animevietsub.page/phim/cong-chua-phuong-dong-a1021/, Genres: ['Fantasy', ' Adventure'], Similarity: 0.9999999999999998\n",
      "Consumed record from Kafka: {'item_id': 'https://animevietsub.page/phim/natsu-e-no-tunnel-sayonara-no-deguchi-a4804/', 'title': 'Natsu e no Tunnel  Sayonara no Deguchi', 'genres': ['Sci-Fi', ' Romance', ' Drama', ' Mystery'], 'rate': 9.7}\n",
      "Recommendation after watch:  Natsu e no Tunnel  Sayonara no Deguchi\n",
      "Title: Alice to Therese no Maboroshi Koujou, Link: https://animevietsub.page/phim/alice-to-therese-no-maboroshi-koujou-a5188/, Genres: ['Sci-Fi', ' Romance', ' Drama'], Similarity: 0.8660254037844387\n",
      "Title: Ký ức người máy, Link: https://animevietsub.page/phim/ky-uc-nguoi-may-i1-a2172/, Genres: ['Sci-Fi', ' Romance', ' Drama'], Similarity: 0.8660254037844387\n",
      "Title: Atri: My Dear Moments, Link: https://animevietsub.page/phim/atri-my-dear-moments-a5314/, Genres: ['Sci-Fi', ' Romance', ' Drama'], Similarity: 0.8660254037844387\n",
      "Title: Sekai ga Horobiru Mae ni Kimi ni Aitai, Link: https://animevietsub.page/phim/sekai-ga-horobiru-mae-ni-kimi-ni-aitai-a5379/, Genres: ['Sci-Fi', ' Romance', ' Drama'], Similarity: 0.8660254037844387\n",
      "Title: Iriya no Sora  UFO no Natsu, Link: https://animevietsub.page/phim/iriya-no-sora-ufo-no-natsu-a1256/, Genres: ['Sci-Fi', ' Romance', ' Drama'], Similarity: 0.8660254037844387\n",
      "Consumed record from Kafka: {'item_id': 'https://animevietsub.page/phim/sword-art-online-progressive-movie-kuraki-yuuyami-no-scherzo-a4457/', 'title': 'Sword Art Online: Progressive Movie - Kuraki Yuuyami no Scherzo', 'genres': ['Romance', ' Game', ' Fantasy', ' Adventure', ' Action'], 'rate': 9.6}\n",
      "Recommendation after watch:  Sword Art Online: Progressive Movie - Kuraki Yuuyami no Scherzo\n"
     ]
    },
    {
     "name": "stderr",
     "output_type": "stream",
     "text": [
      "ERROR:root:KeyboardInterrupt while sending command.\n",
      "Traceback (most recent call last):\n",
      "  File \"c:\\Users\\Illya\\Workspace\\Nam4\\IE212\\DoAn\\Anime\\venv\\lib\\site-packages\\py4j\\java_gateway.py\", line 1038, in send_command\n",
      "    response = connection.send_command(command)\n",
      "  File \"c:\\Users\\Illya\\Workspace\\Nam4\\IE212\\DoAn\\Anime\\venv\\lib\\site-packages\\py4j\\clientserver.py\", line 511, in send_command\n",
      "    answer = smart_decode(self.stream.readline()[:-1])\n",
      "  File \"C:\\laragon\\bin\\python\\python-3.10\\lib\\socket.py\", line 705, in readinto\n",
      "    return self._sock.recv_into(b)\n",
      "KeyboardInterrupt\n"
     ]
    },
    {
     "ename": "KeyboardInterrupt",
     "evalue": "",
     "output_type": "error",
     "traceback": [
      "\u001b[1;31m---------------------------------------------------------------------------\u001b[0m",
      "\u001b[1;31mKeyboardInterrupt\u001b[0m                         Traceback (most recent call last)",
      "Cell \u001b[1;32mIn[9], line 22\u001b[0m\n\u001b[0;32m     19\u001b[0m transformed_data \u001b[38;5;241m=\u001b[39m count_vectorizer_model\u001b[38;5;241m.\u001b[39mtransform(data)\n\u001b[0;32m     20\u001b[0m \u001b[38;5;28mprint\u001b[39m(\u001b[38;5;124m\"\u001b[39m\u001b[38;5;124mRecommendation after watch: \u001b[39m\u001b[38;5;124m\"\u001b[39m, title)\n\u001b[1;32m---> 22\u001b[0m \u001b[43mrecommend_by_title\u001b[49m\u001b[43m(\u001b[49m\u001b[43mtitle\u001b[49m\u001b[43m)\u001b[49m\n",
      "Cell \u001b[1;32mIn[8], line 23\u001b[0m, in \u001b[0;36mrecommend_by_title\u001b[1;34m(title, top_n)\u001b[0m\n\u001b[0;32m     19\u001b[0m     \u001b[38;5;28;01mreturn\u001b[39;00m row\u001b[38;5;241m.\u001b[39mtitle, row\u001b[38;5;241m.\u001b[39mitem_id, row\u001b[38;5;241m.\u001b[39mgenres, similarity\n\u001b[0;32m     21\u001b[0m similar_items_rdd \u001b[38;5;241m=\u001b[39m preprocessed_data\u001b[38;5;241m.\u001b[39mrdd\u001b[38;5;241m.\u001b[39mmap(calculate_similarity)\n\u001b[1;32m---> 23\u001b[0m similar_items \u001b[38;5;241m=\u001b[39m \u001b[43msimilar_items_rdd\u001b[49m\u001b[38;5;241;43m.\u001b[39;49m\u001b[43mfilter\u001b[49m\u001b[43m(\u001b[49m\u001b[38;5;28;43;01mlambda\u001b[39;49;00m\u001b[43m \u001b[49m\u001b[43mx\u001b[49m\u001b[43m:\u001b[49m\u001b[43m \u001b[49m\u001b[43mx\u001b[49m\u001b[43m[\u001b[49m\u001b[38;5;241;43m1\u001b[39;49m\u001b[43m]\u001b[49m\u001b[43m \u001b[49m\u001b[38;5;241;43m!=\u001b[39;49m\u001b[43m \u001b[49m\u001b[43mitem_id\u001b[49m\u001b[43m)\u001b[49m\u001b[38;5;241;43m.\u001b[39;49m\u001b[43mtakeOrdered\u001b[49m\u001b[43m(\u001b[49m\u001b[43mtop_n\u001b[49m\u001b[43m,\u001b[49m\u001b[43m \u001b[49m\u001b[43mkey\u001b[49m\u001b[38;5;241;43m=\u001b[39;49m\u001b[38;5;28;43;01mlambda\u001b[39;49;00m\u001b[43m \u001b[49m\u001b[43mx\u001b[49m\u001b[43m:\u001b[49m\u001b[43m \u001b[49m\u001b[38;5;241;43m-\u001b[39;49m\u001b[43mx\u001b[49m\u001b[43m[\u001b[49m\u001b[38;5;241;43m3\u001b[39;49m\u001b[43m]\u001b[49m\u001b[43m)\u001b[49m\n\u001b[0;32m     25\u001b[0m \u001b[38;5;28;01mfor\u001b[39;00m title, item_id, genres, similarity \u001b[38;5;129;01min\u001b[39;00m similar_items:\n\u001b[0;32m     26\u001b[0m     \u001b[38;5;28mprint\u001b[39m(\u001b[38;5;124mf\u001b[39m\u001b[38;5;124m\"\u001b[39m\u001b[38;5;124mTitle: \u001b[39m\u001b[38;5;132;01m{\u001b[39;00mtitle\u001b[38;5;132;01m}\u001b[39;00m\u001b[38;5;124m, Link: \u001b[39m\u001b[38;5;132;01m{\u001b[39;00mitem_id\u001b[38;5;132;01m}\u001b[39;00m\u001b[38;5;124m, Genres: \u001b[39m\u001b[38;5;132;01m{\u001b[39;00mgenres\u001b[38;5;132;01m}\u001b[39;00m\u001b[38;5;124m, Similarity: \u001b[39m\u001b[38;5;132;01m{\u001b[39;00msimilarity\u001b[38;5;132;01m}\u001b[39;00m\u001b[38;5;124m\"\u001b[39m)\n",
      "File \u001b[1;32mc:\\Users\\Illya\\Workspace\\Nam4\\IE212\\DoAn\\Anime\\venv\\lib\\site-packages\\pyspark\\rdd.py:2778\u001b[0m, in \u001b[0;36mRDD.takeOrdered\u001b[1;34m(self, num, key)\u001b[0m\n\u001b[0;32m   2775\u001b[0m \u001b[38;5;28;01mdef\u001b[39;00m\u001b[38;5;250m \u001b[39m\u001b[38;5;21mmerge\u001b[39m(a: List[T], b: List[T]) \u001b[38;5;241m-\u001b[39m\u001b[38;5;241m>\u001b[39m List[T]:\n\u001b[0;32m   2776\u001b[0m     \u001b[38;5;28;01mreturn\u001b[39;00m heapq\u001b[38;5;241m.\u001b[39mnsmallest(num, a \u001b[38;5;241m+\u001b[39m b, key)\n\u001b[1;32m-> 2778\u001b[0m \u001b[38;5;28;01mreturn\u001b[39;00m \u001b[38;5;28;43mself\u001b[39;49m\u001b[38;5;241;43m.\u001b[39;49m\u001b[43mmapPartitions\u001b[49m\u001b[43m(\u001b[49m\u001b[38;5;28;43;01mlambda\u001b[39;49;00m\u001b[43m \u001b[49m\u001b[43mit\u001b[49m\u001b[43m:\u001b[49m\u001b[43m \u001b[49m\u001b[43m[\u001b[49m\u001b[43mheapq\u001b[49m\u001b[38;5;241;43m.\u001b[39;49m\u001b[43mnsmallest\u001b[49m\u001b[43m(\u001b[49m\u001b[43mnum\u001b[49m\u001b[43m,\u001b[49m\u001b[43m \u001b[49m\u001b[43mit\u001b[49m\u001b[43m,\u001b[49m\u001b[43m \u001b[49m\u001b[43mkey\u001b[49m\u001b[43m)\u001b[49m\u001b[43m]\u001b[49m\u001b[43m)\u001b[49m\u001b[38;5;241;43m.\u001b[39;49m\u001b[43mreduce\u001b[49m\u001b[43m(\u001b[49m\u001b[43mmerge\u001b[49m\u001b[43m)\u001b[49m\n",
      "File \u001b[1;32mc:\\Users\\Illya\\Workspace\\Nam4\\IE212\\DoAn\\Anime\\venv\\lib\\site-packages\\pyspark\\rdd.py:1924\u001b[0m, in \u001b[0;36mRDD.reduce\u001b[1;34m(self, f)\u001b[0m\n\u001b[0;32m   1921\u001b[0m         \u001b[38;5;28;01mreturn\u001b[39;00m\n\u001b[0;32m   1922\u001b[0m     \u001b[38;5;28;01myield\u001b[39;00m reduce(f, iterator, initial)\n\u001b[1;32m-> 1924\u001b[0m vals \u001b[38;5;241m=\u001b[39m \u001b[38;5;28;43mself\u001b[39;49m\u001b[38;5;241;43m.\u001b[39;49m\u001b[43mmapPartitions\u001b[49m\u001b[43m(\u001b[49m\u001b[43mfunc\u001b[49m\u001b[43m)\u001b[49m\u001b[38;5;241;43m.\u001b[39;49m\u001b[43mcollect\u001b[49m\u001b[43m(\u001b[49m\u001b[43m)\u001b[49m\n\u001b[0;32m   1925\u001b[0m \u001b[38;5;28;01mif\u001b[39;00m vals:\n\u001b[0;32m   1926\u001b[0m     \u001b[38;5;28;01mreturn\u001b[39;00m reduce(f, vals)\n",
      "File \u001b[1;32mc:\\Users\\Illya\\Workspace\\Nam4\\IE212\\DoAn\\Anime\\venv\\lib\\site-packages\\pyspark\\rdd.py:1833\u001b[0m, in \u001b[0;36mRDD.collect\u001b[1;34m(self)\u001b[0m\n\u001b[0;32m   1831\u001b[0m \u001b[38;5;28;01mwith\u001b[39;00m SCCallSiteSync(\u001b[38;5;28mself\u001b[39m\u001b[38;5;241m.\u001b[39mcontext):\n\u001b[0;32m   1832\u001b[0m     \u001b[38;5;28;01massert\u001b[39;00m \u001b[38;5;28mself\u001b[39m\u001b[38;5;241m.\u001b[39mctx\u001b[38;5;241m.\u001b[39m_jvm \u001b[38;5;129;01mis\u001b[39;00m \u001b[38;5;129;01mnot\u001b[39;00m \u001b[38;5;28;01mNone\u001b[39;00m\n\u001b[1;32m-> 1833\u001b[0m     sock_info \u001b[38;5;241m=\u001b[39m \u001b[38;5;28;43mself\u001b[39;49m\u001b[38;5;241;43m.\u001b[39;49m\u001b[43mctx\u001b[49m\u001b[38;5;241;43m.\u001b[39;49m\u001b[43m_jvm\u001b[49m\u001b[38;5;241;43m.\u001b[39;49m\u001b[43mPythonRDD\u001b[49m\u001b[38;5;241;43m.\u001b[39;49m\u001b[43mcollectAndServe\u001b[49m\u001b[43m(\u001b[49m\u001b[38;5;28;43mself\u001b[39;49m\u001b[38;5;241;43m.\u001b[39;49m\u001b[43m_jrdd\u001b[49m\u001b[38;5;241;43m.\u001b[39;49m\u001b[43mrdd\u001b[49m\u001b[43m(\u001b[49m\u001b[43m)\u001b[49m\u001b[43m)\u001b[49m\n\u001b[0;32m   1834\u001b[0m \u001b[38;5;28;01mreturn\u001b[39;00m \u001b[38;5;28mlist\u001b[39m(_load_from_socket(sock_info, \u001b[38;5;28mself\u001b[39m\u001b[38;5;241m.\u001b[39m_jrdd_deserializer))\n",
      "File \u001b[1;32mc:\\Users\\Illya\\Workspace\\Nam4\\IE212\\DoAn\\Anime\\venv\\lib\\site-packages\\py4j\\java_gateway.py:1321\u001b[0m, in \u001b[0;36mJavaMember.__call__\u001b[1;34m(self, *args)\u001b[0m\n\u001b[0;32m   1314\u001b[0m args_command, temp_args \u001b[38;5;241m=\u001b[39m \u001b[38;5;28mself\u001b[39m\u001b[38;5;241m.\u001b[39m_build_args(\u001b[38;5;241m*\u001b[39margs)\n\u001b[0;32m   1316\u001b[0m command \u001b[38;5;241m=\u001b[39m proto\u001b[38;5;241m.\u001b[39mCALL_COMMAND_NAME \u001b[38;5;241m+\u001b[39m\\\n\u001b[0;32m   1317\u001b[0m     \u001b[38;5;28mself\u001b[39m\u001b[38;5;241m.\u001b[39mcommand_header \u001b[38;5;241m+\u001b[39m\\\n\u001b[0;32m   1318\u001b[0m     args_command \u001b[38;5;241m+\u001b[39m\\\n\u001b[0;32m   1319\u001b[0m     proto\u001b[38;5;241m.\u001b[39mEND_COMMAND_PART\n\u001b[1;32m-> 1321\u001b[0m answer \u001b[38;5;241m=\u001b[39m \u001b[38;5;28;43mself\u001b[39;49m\u001b[38;5;241;43m.\u001b[39;49m\u001b[43mgateway_client\u001b[49m\u001b[38;5;241;43m.\u001b[39;49m\u001b[43msend_command\u001b[49m\u001b[43m(\u001b[49m\u001b[43mcommand\u001b[49m\u001b[43m)\u001b[49m\n\u001b[0;32m   1322\u001b[0m return_value \u001b[38;5;241m=\u001b[39m get_return_value(\n\u001b[0;32m   1323\u001b[0m     answer, \u001b[38;5;28mself\u001b[39m\u001b[38;5;241m.\u001b[39mgateway_client, \u001b[38;5;28mself\u001b[39m\u001b[38;5;241m.\u001b[39mtarget_id, \u001b[38;5;28mself\u001b[39m\u001b[38;5;241m.\u001b[39mname)\n\u001b[0;32m   1325\u001b[0m \u001b[38;5;28;01mfor\u001b[39;00m temp_arg \u001b[38;5;129;01min\u001b[39;00m temp_args:\n",
      "File \u001b[1;32mc:\\Users\\Illya\\Workspace\\Nam4\\IE212\\DoAn\\Anime\\venv\\lib\\site-packages\\py4j\\java_gateway.py:1038\u001b[0m, in \u001b[0;36mGatewayClient.send_command\u001b[1;34m(self, command, retry, binary)\u001b[0m\n\u001b[0;32m   1036\u001b[0m connection \u001b[38;5;241m=\u001b[39m \u001b[38;5;28mself\u001b[39m\u001b[38;5;241m.\u001b[39m_get_connection()\n\u001b[0;32m   1037\u001b[0m \u001b[38;5;28;01mtry\u001b[39;00m:\n\u001b[1;32m-> 1038\u001b[0m     response \u001b[38;5;241m=\u001b[39m \u001b[43mconnection\u001b[49m\u001b[38;5;241;43m.\u001b[39;49m\u001b[43msend_command\u001b[49m\u001b[43m(\u001b[49m\u001b[43mcommand\u001b[49m\u001b[43m)\u001b[49m\n\u001b[0;32m   1039\u001b[0m     \u001b[38;5;28;01mif\u001b[39;00m binary:\n\u001b[0;32m   1040\u001b[0m         \u001b[38;5;28;01mreturn\u001b[39;00m response, \u001b[38;5;28mself\u001b[39m\u001b[38;5;241m.\u001b[39m_create_connection_guard(connection)\n",
      "File \u001b[1;32mc:\\Users\\Illya\\Workspace\\Nam4\\IE212\\DoAn\\Anime\\venv\\lib\\site-packages\\py4j\\clientserver.py:511\u001b[0m, in \u001b[0;36mClientServerConnection.send_command\u001b[1;34m(self, command)\u001b[0m\n\u001b[0;32m    509\u001b[0m \u001b[38;5;28;01mtry\u001b[39;00m:\n\u001b[0;32m    510\u001b[0m     \u001b[38;5;28;01mwhile\u001b[39;00m \u001b[38;5;28;01mTrue\u001b[39;00m:\n\u001b[1;32m--> 511\u001b[0m         answer \u001b[38;5;241m=\u001b[39m smart_decode(\u001b[38;5;28;43mself\u001b[39;49m\u001b[38;5;241;43m.\u001b[39;49m\u001b[43mstream\u001b[49m\u001b[38;5;241;43m.\u001b[39;49m\u001b[43mreadline\u001b[49m\u001b[43m(\u001b[49m\u001b[43m)\u001b[49m[:\u001b[38;5;241m-\u001b[39m\u001b[38;5;241m1\u001b[39m])\n\u001b[0;32m    512\u001b[0m         logger\u001b[38;5;241m.\u001b[39mdebug(\u001b[38;5;124m\"\u001b[39m\u001b[38;5;124mAnswer received: \u001b[39m\u001b[38;5;132;01m{0}\u001b[39;00m\u001b[38;5;124m\"\u001b[39m\u001b[38;5;241m.\u001b[39mformat(answer))\n\u001b[0;32m    513\u001b[0m         \u001b[38;5;66;03m# Happens when a the other end is dead. There might be an empty\u001b[39;00m\n\u001b[0;32m    514\u001b[0m         \u001b[38;5;66;03m# answer before the socket raises an error.\u001b[39;00m\n",
      "File \u001b[1;32mC:\\laragon\\bin\\python\\python-3.10\\lib\\socket.py:705\u001b[0m, in \u001b[0;36mSocketIO.readinto\u001b[1;34m(self, b)\u001b[0m\n\u001b[0;32m    703\u001b[0m \u001b[38;5;28;01mwhile\u001b[39;00m \u001b[38;5;28;01mTrue\u001b[39;00m:\n\u001b[0;32m    704\u001b[0m     \u001b[38;5;28;01mtry\u001b[39;00m:\n\u001b[1;32m--> 705\u001b[0m         \u001b[38;5;28;01mreturn\u001b[39;00m \u001b[38;5;28;43mself\u001b[39;49m\u001b[38;5;241;43m.\u001b[39;49m\u001b[43m_sock\u001b[49m\u001b[38;5;241;43m.\u001b[39;49m\u001b[43mrecv_into\u001b[49m\u001b[43m(\u001b[49m\u001b[43mb\u001b[49m\u001b[43m)\u001b[49m\n\u001b[0;32m    706\u001b[0m     \u001b[38;5;28;01mexcept\u001b[39;00m timeout:\n\u001b[0;32m    707\u001b[0m         \u001b[38;5;28mself\u001b[39m\u001b[38;5;241m.\u001b[39m_timeout_occurred \u001b[38;5;241m=\u001b[39m \u001b[38;5;28;01mTrue\u001b[39;00m\n",
      "\u001b[1;31mKeyboardInterrupt\u001b[0m: "
     ]
    },
    {
     "name": "stderr",
     "output_type": "stream",
     "text": [
      "WARNING:kafka.coordinator:Heartbeat poll expired, leaving group\n"
     ]
    }
   ],
   "source": [
    "for message in consumer:\n",
    "    record = message.value  # Lấy giá trị của message từ Kafka\n",
    "\n",
    "    print(f\"Consumed record from Kafka: {record}\")\n",
    "    \n",
    "    item_id = record['item_id']\n",
    "    title = record['title']\n",
    "    genres = record['genres']\n",
    "    rate = record['rate']\n",
    "    \n",
    "    # Tiền xử lý dữ liệu nhận được từ Kafka (chuyển genres thành vector)\n",
    "    data = spark.createDataFrame([{\n",
    "        'item_id': item_id,\n",
    "        'title': title,\n",
    "        'genres': genres,\n",
    "        'rate': rate\n",
    "    }])\n",
    "\n",
    "    transformed_data = count_vectorizer_model.transform(data)\n",
    "    print(\"Recommendation after watch: \", title)\n",
    "\n",
    "    recommend_by_title(title)\n"
   ]
  }
 ],
 "metadata": {
  "kernelspec": {
   "display_name": "venv",
   "language": "python",
   "name": "python3"
  },
  "language_info": {
   "codemirror_mode": {
    "name": "ipython",
    "version": 3
   },
   "file_extension": ".py",
   "mimetype": "text/x-python",
   "name": "python",
   "nbconvert_exporter": "python",
   "pygments_lexer": "ipython3",
   "version": "3.10.6"
  }
 },
 "nbformat": 4,
 "nbformat_minor": 2
}
