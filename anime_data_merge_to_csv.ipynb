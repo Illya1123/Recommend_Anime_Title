{
 "cells": [
  {
   "cell_type": "code",
   "execution_count": 7,
   "metadata": {},
   "outputs": [],
   "source": [
    "import pandas as pd\n",
    "import os\n",
    "import json"
   ]
  },
  {
   "cell_type": "code",
   "execution_count": 8,
   "metadata": {},
   "outputs": [],
   "source": [
    "def combine_json_files(directory):\n",
    "    all_data = []\n",
    "\n",
    "    for filename in os.listdir(directory):\n",
    "        if filename.endswith('.json'):\n",
    "            file_path = os.path.join(directory, filename)\n",
    "            with open(file_path, 'r', encoding='utf-8') as file:\n",
    "                data = json.load(file)  # Đọc dữ liệu từ file JSON\n",
    "                \n",
    "                # Thêm cột 'type' với giá trị 'phim lẻ' hoặc 'phim bộ'\n",
    "                if filename.startswith('anime_movies'):\n",
    "                    for item in data:\n",
    "                        item['type'] = 'phim lẻ'\n",
    "                elif filename.startswith('anime_series'):\n",
    "                    for item in data:\n",
    "                        item['type'] = 'phim bộ'\n",
    "                \n",
    "                all_data.extend(data)\n",
    "\n",
    "    df = pd.DataFrame(all_data)\n",
    "\n",
    "    return df"
   ]
  },
  {
   "cell_type": "code",
   "execution_count": 9,
   "metadata": {},
   "outputs": [],
   "source": [
    "def save_df_to_csv(df, directory='data/merge', filename='anime_data.csv'):\n",
    "    if not os.path.exists(directory):\n",
    "        os.makedirs(directory)\n",
    "\n",
    "    file_path = os.path.join(directory, filename)\n",
    "\n",
    "    df.to_csv(file_path, index=False, encoding='utf-8')\n",
    "\n",
    "    print(f\"DataFrame đã được lưu vào {file_path}\")"
   ]
  },
  {
   "cell_type": "code",
   "execution_count": 10,
   "metadata": {},
   "outputs": [],
   "source": [
    "directory_path = './data/raw'"
   ]
  },
  {
   "cell_type": "code",
   "execution_count": 11,
   "metadata": {},
   "outputs": [],
   "source": [
    "df = combine_json_files(directory_path)"
   ]
  },
  {
   "cell_type": "code",
   "execution_count": 12,
   "metadata": {},
   "outputs": [
    {
     "name": "stdout",
     "output_type": "stream",
     "text": [
      "DataFrame đã được lưu vào data/merge\\anime_data.csv\n"
     ]
    }
   ],
   "source": [
    "save_df_to_csv(df)"
   ]
  }
 ],
 "metadata": {
  "kernelspec": {
   "display_name": "venv",
   "language": "python",
   "name": "python3"
  },
  "language_info": {
   "codemirror_mode": {
    "name": "ipython",
    "version": 3
   },
   "file_extension": ".py",
   "mimetype": "text/x-python",
   "name": "python",
   "nbconvert_exporter": "python",
   "pygments_lexer": "ipython3",
   "version": "3.10.6"
  }
 },
 "nbformat": 4,
 "nbformat_minor": 2
}
