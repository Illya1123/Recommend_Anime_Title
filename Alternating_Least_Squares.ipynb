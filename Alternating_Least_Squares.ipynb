{
 "cells": [
  {
   "cell_type": "markdown",
   "metadata": {},
   "source": [
    "# mô hình ALS (Alternating Least Squares)"
   ]
  },
  {
   "cell_type": "code",
   "execution_count": 27,
   "metadata": {},
   "outputs": [],
   "source": [
    "from pyspark.sql import SparkSession\n",
    "from pyspark.ml.feature import StringIndexer, OneHotEncoder, VectorAssembler\n",
    "from pyspark.ml.recommendation import ALS\n",
    "from pyspark.sql.functions import col, explode, split\n",
    "\n",
    "from pyspark.ml.evaluation import RegressionEvaluator"
   ]
  },
  {
   "cell_type": "code",
   "execution_count": 28,
   "metadata": {},
   "outputs": [],
   "source": [
    "spark = SparkSession.builder.appName('AnimeRecommendation').getOrCreate()\n",
    "\n",
    "data = spark.read.csv(\"./data/proceeded/anime_watched_with_details.csv\", header=True, inferSchema=True)\n"
   ]
  },
  {
   "cell_type": "code",
   "execution_count": 29,
   "metadata": {},
   "outputs": [],
   "source": [
    "data = data.select(\"user_id\", \"titles_watched\", \"genres\")\n"
   ]
  },
  {
   "cell_type": "code",
   "execution_count": 30,
   "metadata": {},
   "outputs": [],
   "source": [
    "genres_split = data.select(\"user_id\", \"titles_watched\", \"genres\") \\\n",
    "    .withColumn(\"genres\", split(col(\"genres\"), \",\"))\n"
   ]
  },
  {
   "cell_type": "code",
   "execution_count": 31,
   "metadata": {},
   "outputs": [],
   "source": [
    "genres_split = genres_split.withColumn(\"genres\", explode(col(\"genres\")))\n"
   ]
  },
  {
   "cell_type": "code",
   "execution_count": 32,
   "metadata": {},
   "outputs": [],
   "source": [
    "indexer = StringIndexer(inputCol=\"genres\", outputCol=\"genre_index\")\n",
    "indexed_genres = indexer.fit(genres_split).transform(genres_split)\n"
   ]
  },
  {
   "cell_type": "code",
   "execution_count": 33,
   "metadata": {},
   "outputs": [],
   "source": [
    "encoder = OneHotEncoder(inputCol=\"genre_index\", outputCol=\"genre_vec\")\n",
    "encoded_genres = encoder.fit(indexed_genres).transform(indexed_genres)\n"
   ]
  },
  {
   "cell_type": "code",
   "execution_count": 34,
   "metadata": {},
   "outputs": [],
   "source": [
    "item_indexer = StringIndexer(inputCol=\"titles_watched\", outputCol=\"item_id\")\n",
    "data_with_item_id = item_indexer.fit(encoded_genres).transform(encoded_genres)\n"
   ]
  },
  {
   "cell_type": "code",
   "execution_count": 35,
   "metadata": {},
   "outputs": [
    {
     "name": "stdout",
     "output_type": "stream",
     "text": [
      "root\n",
      " |-- user_id: integer (nullable = true)\n",
      " |-- item_id: double (nullable = false)\n",
      " |-- genre_index: double (nullable = false)\n",
      "\n"
     ]
    }
   ],
   "source": [
    "data_with_item_id = data_with_item_id.dropna(subset=[\"genre_index\", \"genre_vec\"])\n",
    "\n",
    "data_ready = data_with_item_id.select(\"user_id\", \"item_id\", \"genre_index\")\n",
    "\n",
    "data_ready.printSchema()"
   ]
  },
  {
   "cell_type": "code",
   "execution_count": 36,
   "metadata": {},
   "outputs": [],
   "source": [
    "# Chia dữ liệu thành tập huấn luyện (80%) và kiểm tra (20%)\n",
    "train_data, test_data = data_ready.randomSplit([0.8, 0.2], seed=42)"
   ]
  },
  {
   "cell_type": "code",
   "execution_count": 37,
   "metadata": {},
   "outputs": [],
   "source": [
    "# Tạo mô hình ALS\n",
    "als = ALS(userCol=\"user_id\", itemCol=\"item_id\", ratingCol=\"genre_index\", coldStartStrategy=\"drop\")\n",
    "\n",
    "# Huấn luyện mô hình\n",
    "model = als.fit(data_ready)"
   ]
  },
  {
   "cell_type": "code",
   "execution_count": 38,
   "metadata": {},
   "outputs": [],
   "source": [
    "# Dự đoán trên tập kiểm tra\n",
    "predictions = model.transform(test_data)"
   ]
  },
  {
   "cell_type": "code",
   "execution_count": 39,
   "metadata": {},
   "outputs": [],
   "source": [
    "# Loại bỏ các hàng không có giá trị prediction\n",
    "predictions = predictions.dropna(subset=[\"prediction\"])"
   ]
  },
  {
   "cell_type": "code",
   "execution_count": 40,
   "metadata": {},
   "outputs": [],
   "source": [
    "# Đánh giá mô hình bằng RMSE\n",
    "evaluator_rmse = RegressionEvaluator(metricName=\"rmse\", labelCol=\"genre_index\", predictionCol=\"prediction\")\n",
    "rmse = evaluator_rmse.evaluate(predictions)\n",
    "\n",
    "# Đánh giá mô hình bằng MAE\n",
    "evaluator_mae = RegressionEvaluator(metricName=\"mae\", labelCol=\"genre_index\", predictionCol=\"prediction\")\n",
    "mae = evaluator_mae.evaluate(predictions)"
   ]
  },
  {
   "cell_type": "code",
   "execution_count": 41,
   "metadata": {},
   "outputs": [
    {
     "name": "stdout",
     "output_type": "stream",
     "text": [
      "RMSE (Root Mean Squared Error): 11.712391376183813\n",
      "MAE (Mean Absolute Error): 8.757198941181052\n"
     ]
    }
   ],
   "source": [
    "print(f\"RMSE (Root Mean Squared Error): {rmse}\")\n",
    "print(f\"MAE (Mean Absolute Error): {mae}\")"
   ]
  },
  {
   "cell_type": "code",
   "execution_count": 42,
   "metadata": {},
   "outputs": [
    {
     "name": "stdout",
     "output_type": "stream",
     "text": [
      "+------------------------------------------------------+-----------+----------+\n",
      "|titles_watched                                        |genres     |prediction|\n",
      "+------------------------------------------------------+-----------+----------+\n",
      "|Attack on Titan (Live-Action)                         |Live Action|101.36276 |\n",
      "|Bima - Satria Garuda                                  |Tokusatsu  |83.40841  |\n",
      "|Bách Hoa Liễu Loạn: Samurai Girls Specials            |Ecchi      |85.557556 |\n",
      "|Cuộc Chiến Sinh Tử (Trò Chơi Sinh Tử)                 |Live Action|86.771255 |\n",
      "|KAMEN RIDER X KAMEN RIDER W & DECADE – MOVIE WARS 2010|Tokusatsu  |86.50363  |\n",
      "+------------------------------------------------------+-----------+----------+\n",
      "\n"
     ]
    }
   ],
   "source": [
    "# Dự đoán các anime cho một người dùng\n",
    "user_id = 1  # Ví dụ cho user_id = 1\n",
    "watched_items = data_ready.filter(col(\"user_id\") == user_id).select(\"item_id\").rdd.flatMap(lambda x: x).collect()\n",
    "\n",
    "# Dự đoán top anime mà user có thể thích\n",
    "all_recommendations = model.recommendForAllUsers(10)  # Gợi ý 10 phim cho tất cả người dùng\n",
    "user_recommendations = all_recommendations.filter(col(\"user_id\") == user_id)\n",
    "\n",
    "# Rã các gợi ý ra từng dòng\n",
    "user_recommendations = user_recommendations.select(col(\"user_id\"), explode(col(\"recommendations\")).alias(\"recommendation\"))\n",
    "user_recommendations = user_recommendations.select(\"user_id\", col(\"recommendation.item_id\").alias(\"item_id\"), col(\"recommendation.rating\").alias(\"prediction\"))\n",
    "\n",
    "# Lọc bỏ các phim user đã xem\n",
    "user_recommendations = user_recommendations.filter(~col(\"item_id\").isin(watched_items))\n",
    "\n",
    "top_recommendations = user_recommendations.join(data_with_item_id, on=\"item_id\", how=\"left\")\n",
    "\n",
    "top_recommendations = top_recommendations.select(\"titles_watched\", \"genres\", \"prediction\")\n",
    "\n",
    "top_recommendations = top_recommendations.orderBy(col(\"prediction\").desc())\n",
    "\n",
    "top_recommendations = top_recommendations.dropDuplicates([\"titles_watched\"])\n",
    "\n",
    "top_5_recommendations = top_recommendations.limit(5)\n",
    "\n",
    "top_5_recommendations.show(truncate=False)"
   ]
  },
  {
   "cell_type": "code",
   "execution_count": 49,
   "metadata": {},
   "outputs": [
    {
     "name": "stdout",
     "output_type": "stream",
     "text": [
      "Model saved at ./models/anime_recommendation_model\n"
     ]
    }
   ],
   "source": [
    "import matplotlib.pyplot as plt\n",
    "import pandas as pd\n",
    "import os\n",
    "\n",
    "model_path = \"./models/anime_recommendation_model\"\n",
    "\n",
    "model.save(model_path)\n",
    "print(f\"Model saved at {model_path}\")"
   ]
  }
 ],
 "metadata": {
  "kernelspec": {
   "display_name": "venv",
   "language": "python",
   "name": "python3"
  },
  "language_info": {
   "codemirror_mode": {
    "name": "ipython",
    "version": 3
   },
   "file_extension": ".py",
   "mimetype": "text/x-python",
   "name": "python",
   "nbconvert_exporter": "python",
   "pygments_lexer": "ipython3",
   "version": "3.10.6"
  }
 },
 "nbformat": 4,
 "nbformat_minor": 2
}
