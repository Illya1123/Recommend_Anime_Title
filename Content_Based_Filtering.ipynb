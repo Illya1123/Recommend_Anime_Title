{
 "cells": [
  {
   "cell_type": "code",
   "execution_count": 10,
   "metadata": {},
   "outputs": [],
   "source": [
    "from pyspark.sql import SparkSession\n",
    "from pyspark.ml.feature import CountVectorizer, StringIndexer\n",
    "from pyspark.ml.linalg import Vectors\n",
    "from pyspark.ml import Pipeline\n",
    "from pyspark.sql.functions import col, lit, split, array\n",
    "from pyspark.ml.linalg import DenseVector\n",
    "import os\n",
    "import pickle\n",
    "import shutil"
   ]
  },
  {
   "cell_type": "code",
   "execution_count": 11,
   "metadata": {},
   "outputs": [],
   "source": [
    "spark = SparkSession.builder \\\n",
    "    .appName(\"Content-Based Filtering\") \\\n",
    "    .getOrCreate()"
   ]
  },
  {
   "cell_type": "code",
   "execution_count": 12,
   "metadata": {},
   "outputs": [
    {
     "name": "stdout",
     "output_type": "stream",
     "text": [
      "+--------------------+--------------------+--------------------+-------+--------------------+------+-------+----+--------------------+--------------------+-------+-------+----+------------+\n",
      "|               title|                link|               image|episode|              rating| views|quality|year|              genres|         description| season|   type|rate|nums_of_vote|\n",
      "+--------------------+--------------------+--------------------+-------+--------------------+------+-------+----+--------------------+--------------------+-------+-------+----+------------+\n",
      "|5-toubun no Hanay...|https://animeviet...|https://cdn.anime...|      1|9.6 trong số 10 d...|235236|     HD|2024|Shounen, School, ...|Chuyến đi tuần tr...|Mùa thu|phim lẻ| 9.6|         301|\n",
      "|Overlord Movie 3:...|https://animeviet...|https://cdn.anime...|      1|9.4 trong số 10 d...|687666|    CAM|2024|Fantasy, Adventur...|Vương quốc thiêng...|Mùa thu|phim lẻ| 9.4|         115|\n",
      "|Digimon Adventure...|https://animeviet...|https://cdn.anime...|      1|7.3 trong số 10 d...| 27447|     HD|2023|Fantasy, Drama, C...|Hai năm sau trận ...|Mùa thu|phim lẻ| 7.3|           3|\n",
      "|Tengen Toppa Gurr...|https://animeviet...|https://cdn.anime...|      1|9 trong số 10 dựa...| 37285|Full HD|2008|      Sci-Fi, Action|Studio hoạt hình ...|Mùa thu|phim lẻ| 9.0|           9|\n",
      "|Yowamushi Pedal: ...|https://animeviet...|https://cdn.anime...|      1|7.5 trong số 10 d...| 15265|Full HD|2016|Shounen, Sports, ...|Anime chuyển thể ...|Mùa thu|phim lẻ| 7.5|          11|\n",
      "+--------------------+--------------------+--------------------+-------+--------------------+------+-------+----+--------------------+--------------------+-------+-------+----+------------+\n",
      "only showing top 5 rows\n",
      "\n"
     ]
    }
   ],
   "source": [
    "data_path = \"./data/cleaned/anime_data_cleaned.csv\"\n",
    "data = spark.read.csv(data_path, header=True, inferSchema=True)\n",
    "data.show(5)"
   ]
  },
  {
   "cell_type": "code",
   "execution_count": 13,
   "metadata": {},
   "outputs": [],
   "source": [
    "data = data.dropna(subset=['link', 'title', 'genres', 'rate'])\n",
    "data = data.withColumnRenamed('link', 'item_id')"
   ]
  },
  {
   "cell_type": "code",
   "execution_count": 14,
   "metadata": {},
   "outputs": [],
   "source": [
    "data = data.withColumn(\"rate\", col(\"rate\").cast(\"double\"))\n",
    "\n",
    "data = data.withColumn(\"genres\", split(col(\"genres\"), \",\"))"
   ]
  },
  {
   "cell_type": "code",
   "execution_count": 15,
   "metadata": {},
   "outputs": [],
   "source": [
    "# Dùng CountVectorizer chuyển thể loại thành vector\n",
    "vectorizer = CountVectorizer(inputCol=\"genres\", outputCol=\"genre_vector\")\n",
    "count_vectorizer_model = vectorizer.fit(data)"
   ]
  },
  {
   "cell_type": "code",
   "execution_count": 16,
   "metadata": {},
   "outputs": [],
   "source": [
    "item_indexer = StringIndexer(inputCol=\"item_id\", outputCol=\"item_index\")"
   ]
  },
  {
   "cell_type": "code",
   "execution_count": 17,
   "metadata": {},
   "outputs": [],
   "source": [
    "preprocessing_pipeline = Pipeline(stages=[vectorizer, item_indexer])\n",
    "preprocessed_pipeline_model = preprocessing_pipeline.fit(data)\n",
    "preprocessed_data = preprocessed_pipeline_model.transform(data)"
   ]
  },
  {
   "cell_type": "markdown",
   "metadata": {},
   "source": [
    "### xuất model"
   ]
  },
  {
   "cell_type": "code",
   "execution_count": 18,
   "metadata": {},
   "outputs": [
    {
     "name": "stdout",
     "output_type": "stream",
     "text": [
      "Model saved to ./models/genre_vectorizer\n"
     ]
    }
   ],
   "source": [
    "# Lưu mô hình đã huấn luyện\n",
    "model_path = \"./models/genre_vectorizer\"\n",
    "count_vectorizer_model.save(model_path)\n",
    "print(f\"Model saved to {model_path}\")"
   ]
  },
  {
   "cell_type": "code",
   "execution_count": 19,
   "metadata": {},
   "outputs": [],
   "source": [
    "def recommend_by_title(title, top_n=10):\n",
    "    item_data = preprocessed_data.filter(col(\"title\") == title).select(\"item_id\", \"genre_vector\", \"genres\").first()\n",
    "\n",
    "    if not item_data:\n",
    "        print(f\"No anime found with title: {title}\")\n",
    "        return\n",
    "\n",
    "    item_id = item_data[\"item_id\"]\n",
    "    genre_vector = DenseVector(item_data[\"genre_vector\"].toArray())\n",
    "\n",
    "    # Broadcast vector thể loại đến tất cả các worker\n",
    "    broadcast_genre_vector = spark.sparkContext.broadcast(genre_vector)\n",
    "\n",
    "    # Tính toán độ tương đồng cosine một cách thủ công\n",
    "    def calculate_similarity(row):\n",
    "        target_vector = broadcast_genre_vector.value\n",
    "        row_vector = DenseVector(row.genre_vector.toArray())\n",
    "        dot_product = sum(target_vector[i] * row_vector[i] for i in range(len(target_vector)))\n",
    "        norm_target = sum(x ** 2 for x in target_vector) ** 0.5\n",
    "        norm_row = sum(x ** 2 for x in row_vector) ** 0.5\n",
    "        similarity = dot_product / (norm_target * norm_row) if norm_target and norm_row else 0.0\n",
    "        return row.title, row.item_id, row.genres, similarity\n",
    "\n",
    "    # Chuyển preprocessed_data thành RDD và tính toán độ tương đồng\n",
    "    similar_items_rdd = preprocessed_data.rdd.map(calculate_similarity)\n",
    "\n",
    "    # Lọc bỏ item gốc và sắp xếp theo độ tương đồng giảm dần\n",
    "    similar_items = similar_items_rdd.filter(lambda x: x[1] != item_id).takeOrdered(top_n, key=lambda x: -x[3])\n",
    "\n",
    "    for title, item_id, genres, similarity in similar_items:\n",
    "        print(f\"Title: {title}, Link: {item_id}, Genres: {genres}, Similarity: {similarity}\")\n"
   ]
  },
  {
   "cell_type": "markdown",
   "metadata": {},
   "source": [
    "#### Ví dụ <br>\n",
    "1. Naruto\n",
    "2. Bảy Viên Ngọc Rồng Heroes\n",
    "3. Gamers!\n",
    "4. Hội Chứng Tuổi Thanh Xuân Movie"
   ]
  },
  {
   "cell_type": "code",
   "execution_count": null,
   "metadata": {},
   "outputs": [],
   "source": [
    "# Example usage\n",
    "recommend_by_title(\"Naruto\")"
   ]
  }
 ],
 "metadata": {
  "kernelspec": {
   "display_name": "venv",
   "language": "python",
   "name": "python3"
  },
  "language_info": {
   "codemirror_mode": {
    "name": "ipython",
    "version": 3
   },
   "file_extension": ".py",
   "mimetype": "text/x-python",
   "name": "python",
   "nbconvert_exporter": "python",
   "pygments_lexer": "ipython3",
   "version": "3.10.6"
  }
 },
 "nbformat": 4,
 "nbformat_minor": 2
}
