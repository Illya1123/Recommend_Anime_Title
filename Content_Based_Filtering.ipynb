{
 "cells": [
  {
   "cell_type": "code",
   "execution_count": 1,
   "metadata": {},
   "outputs": [],
   "source": [
    "from pyspark.sql import SparkSession\n",
    "from pyspark.ml.feature import CountVectorizer, StringIndexer\n",
    "from pyspark.ml.linalg import Vectors\n",
    "from pyspark.ml import Pipeline\n",
    "from pyspark.sql.functions import col, lit, split, array\n",
    "from pyspark.ml.linalg import DenseVector\n",
    "import os\n",
    "import pickle\n",
    "import shutil"
   ]
  },
  {
   "cell_type": "code",
   "execution_count": 2,
   "metadata": {},
   "outputs": [],
   "source": [
    "spark = SparkSession.builder \\\n",
    "    .appName(\"Content-Based Filtering\") \\\n",
    "    .getOrCreate()"
   ]
  },
  {
   "cell_type": "code",
   "execution_count": 3,
   "metadata": {},
   "outputs": [
    {
     "name": "stdout",
     "output_type": "stream",
     "text": [
      "+---+--------------------+--------------------+--------------------+-------+------+-------+----+--------------------+--------------------+-------+-------+----+------------+\n",
      "| id|               title|                link|               image|episode| views|quality|year|              genres|         description| season|   type|rate|nums_of_vote|\n",
      "+---+--------------------+--------------------+--------------------+-------+------+-------+----+--------------------+--------------------+-------+-------+----+------------+\n",
      "|  1|5-toubun no Hanay...|https://animeviet...|https://cdn.anime...|      1|235236|     HD|2024|Shounen, School, ...|Chuyến đi tuần tr...|Mùa thu|phim lẻ| 9.6|         301|\n",
      "|  2|Overlord Movie 3:...|https://animeviet...|https://cdn.anime...|      1|687666|    CAM|2024|Fantasy, Adventur...|Vương quốc thiêng...|Mùa thu|phim lẻ| 9.4|         115|\n",
      "|  3|Digimon Adventure...|https://animeviet...|https://cdn.anime...|      1| 27447|     HD|2023|Fantasy, Drama, C...|Hai năm sau trận ...|Mùa thu|phim lẻ| 7.3|           3|\n",
      "|  4|Tengen Toppa Gurr...|https://animeviet...|https://cdn.anime...|      1| 37285|Full HD|2008|      Sci-Fi, Action|Studio hoạt hình ...|Mùa thu|phim lẻ| 9.0|           9|\n",
      "|  5|Yowamushi Pedal: ...|https://animeviet...|https://cdn.anime...|      1| 15265|Full HD|2016|Shounen, Sports, ...|Anime chuyển thể ...|Mùa thu|phim lẻ| 7.5|          11|\n",
      "+---+--------------------+--------------------+--------------------+-------+------+-------+----+--------------------+--------------------+-------+-------+----+------------+\n",
      "only showing top 5 rows\n",
      "\n"
     ]
    }
   ],
   "source": [
    "data_path = \"./data/cleaned/anime_data_cleaned.csv\"\n",
    "data = spark.read.csv(data_path, header=True, inferSchema=True)\n",
    "data.show(5)"
   ]
  },
  {
   "cell_type": "code",
   "execution_count": 4,
   "metadata": {},
   "outputs": [],
   "source": [
    "data = data.dropna(subset=['link', 'title', 'genres', 'rate'])\n",
    "data = data.withColumnRenamed('link', 'item_id')"
   ]
  },
  {
   "cell_type": "code",
   "execution_count": 5,
   "metadata": {},
   "outputs": [],
   "source": [
    "data = data.withColumn(\"rate\", col(\"rate\").cast(\"double\"))\n",
    "\n",
    "data = data.withColumn(\"genres\", split(col(\"genres\"), \",\"))"
   ]
  },
  {
   "cell_type": "code",
   "execution_count": 6,
   "metadata": {},
   "outputs": [],
   "source": [
    "# Dùng CountVectorizer chuyển thể loại thành vector\n",
    "vectorizer = CountVectorizer(inputCol=\"genres\", outputCol=\"genre_vector\")\n",
    "count_vectorizer_model = vectorizer.fit(data)"
   ]
  },
  {
   "cell_type": "code",
   "execution_count": 7,
   "metadata": {},
   "outputs": [],
   "source": [
    "item_indexer = StringIndexer(inputCol=\"item_id\", outputCol=\"item_index\")"
   ]
  },
  {
   "cell_type": "code",
   "execution_count": 8,
   "metadata": {},
   "outputs": [],
   "source": [
    "preprocessing_pipeline = Pipeline(stages=[vectorizer, item_indexer])\n",
    "preprocessed_pipeline_model = preprocessing_pipeline.fit(data)\n",
    "preprocessed_data = preprocessed_pipeline_model.transform(data)"
   ]
  },
  {
   "cell_type": "markdown",
   "metadata": {},
   "source": [
    "### xuất model"
   ]
  },
  {
   "cell_type": "code",
   "execution_count": 9,
   "metadata": {},
   "outputs": [],
   "source": [
    "# # Lưu mô hình đã huấn luyện\n",
    "# model_path = \"./models/genre_vectorizer\"\n",
    "# count_vectorizer_model.save(model_path)\n",
    "# print(f\"Model saved to {model_path}\")"
   ]
  },
  {
   "cell_type": "code",
   "execution_count": 10,
   "metadata": {},
   "outputs": [],
   "source": [
    "def recommend_by_title(title, top_n=10):\n",
    "    item_data = preprocessed_data.filter(col(\"title\") == title).select(\"item_id\", \"genre_vector\", \"genres\").first()\n",
    "\n",
    "    if not item_data:\n",
    "        print(f\"No anime found with title: {title}\")\n",
    "        return\n",
    "\n",
    "    item_id = item_data[\"item_id\"]\n",
    "    genre_vector = DenseVector(item_data[\"genre_vector\"].toArray())\n",
    "\n",
    "    broadcast_genre_vector = spark.sparkContext.broadcast(genre_vector)\n",
    "\n",
    "    def calculate_similarity(row):\n",
    "        target_vector = broadcast_genre_vector.value\n",
    "        row_vector = DenseVector(row.genre_vector.toArray())\n",
    "        dot_product = sum(target_vector[i] * row_vector[i] for i in range(len(target_vector)))\n",
    "        norm_target = sum(x ** 2 for x in target_vector) ** 0.5\n",
    "        norm_row = sum(x ** 2 for x in row_vector) ** 0.5\n",
    "        similarity = dot_product / (norm_target * norm_row) if norm_target and norm_row else 0.0\n",
    "        return row.title, row.item_id, row.genres, similarity\n",
    "\n",
    "    similar_items_rdd = preprocessed_data.rdd.map(calculate_similarity)\n",
    "\n",
    "    similar_items = similar_items_rdd.filter(lambda x: x[1] != item_id).takeOrdered(top_n, key=lambda x: -x[3])\n",
    "\n",
    "    for title, item_id, genres, similarity in similar_items:\n",
    "        print(f\"Title: {title}, Link: {item_id}, Genres: {genres}, Similarity: {similarity}\")\n"
   ]
  },
  {
   "cell_type": "markdown",
   "metadata": {},
   "source": [
    "#### Ví dụ <br>\n",
    "1. Naruto\n",
    "2. Bảy Viên Ngọc Rồng Heroes\n",
    "3. Gamers!\n",
    "4. Hội Chứng Tuổi Thanh Xuân Movie"
   ]
  },
  {
   "cell_type": "code",
   "execution_count": 11,
   "metadata": {},
   "outputs": [
    {
     "name": "stdout",
     "output_type": "stream",
     "text": [
      "Title: Boruto: Đứa Con Ngỗ Nghịch Của Naruto, Link: https://animevietsub.page/phim/boruto-dua-con-ngo-nghich-cua-naruto-r1-a529/, Genres: ['Shounen', ' Super Power', ' Comedy', ' Martial Arts', ' Action'], Similarity: 0.9999999999999998\n",
      "Title: Naruto: Tòa tháp bị mất, Link: https://animevietsub.page/phim/naruto-toa-thap-bi-mat-i1-a524/, Genres: ['Shounen', ' Super Power', ' Comedy', ' Martial Arts', ' Action'], Similarity: 0.9999999999999998\n",
      "Title: Naruto: Người kế thừa Hỏa chí, Link: https://animevietsub.page/phim/naruto-nguoi-ke-thua-hoa-chi-i1-a523/, Genres: ['Shounen', ' Super Power', ' Comedy', ' Martial Arts', ' Action'], Similarity: 0.9999999999999998\n",
      "Title: Naruto: Sức Mạnh Vĩ Thú, Link: https://animevietsub.page/phim/naruto-suc-manh-vi-thu-r2-a5/, Genres: ['Shounen', ' Super Power', ' Comedy', ' Martial Arts', ' Action'], Similarity: 0.9999999999999998\n",
      "Title: Bảy Viên Ngọc Rồng Heroes, Link: https://animevietsub.page/phim/bay-vien-ngoc-rong-heroes-a3290/, Genres: ['Shounen', ' Super Power', ' Fantasy', ' Comedy', ' Martial Arts', ' Action'], Similarity: 0.9128709291752769\n",
      "Title: Katekyo Hitman Reborn!, Link: https://animevietsub.page/phim/katekyo-hitman-reborn-a1432/, Genres: ['Shounen', ' Super Power', ' Comedy', ' Action'], Similarity: 0.8944271909999159\n",
      "Title: Bảy viên ngọc rồng siêu cấp: Broly, Link: https://animevietsub.page/phim/bay-vien-ngoc-rong-sieu-cap-broly-r1-a3351/, Genres: ['Shounen', ' Super Power', ' Fantasy', ' Comedy', ' Adventure', ' Martial Arts', ' Action'], Similarity: 0.8451542547285165\n",
      "Title: Bảy Viên Ngọc Rồng Movie 15, Link: https://animevietsub.page/phim/bay-vien-ngoc-rong-movie-15-i1-a990/, Genres: ['Shounen', ' Super Power', ' Fantasy', ' Comedy', ' Adventure', ' Martial Arts', ' Action'], Similarity: 0.8451542547285165\n",
      "Title: Bảy Viên Ngọc Rồng Movie 11, Link: https://animevietsub.page/phim/bay-vien-ngoc-rong-movie-11-r1-a985/, Genres: ['Shounen', ' Super Power', ' Fantasy', ' Comedy', ' Adventure', ' Martial Arts', ' Action'], Similarity: 0.8451542547285165\n",
      "Title: Dragon Ball Daima, Link: https://animevietsub.page/phim/dragon-ball-daima-a5430/, Genres: ['Shounen', ' Super Power', ' Fantasy', ' Comedy', ' Adventure', ' Martial Arts', ' Action'], Similarity: 0.8451542547285165\n"
     ]
    }
   ],
   "source": [
    "# Example usage\n",
    "recommend_by_title(\"Naruto\")"
   ]
  },
  {
   "cell_type": "code",
   "execution_count": 12,
   "metadata": {},
   "outputs": [
    {
     "name": "stdout",
     "output_type": "stream",
     "text": [
      "Train and Test split completed.\n"
     ]
    }
   ],
   "source": [
    "# Chia tập dữ liệu thành train và test\n",
    "train_data, test_data = preprocessed_data.randomSplit([0.8, 0.2], seed=42)\n",
    "print(\"Train and Test split completed.\")"
   ]
  },
  {
   "cell_type": "code",
   "execution_count": 13,
   "metadata": {},
   "outputs": [
    {
     "name": "stdout",
     "output_type": "stream",
     "text": [
      "Precision@10: 0.7500\n"
     ]
    },
    {
     "data": {
      "text/plain": [
       "0.75"
      ]
     },
     "execution_count": 13,
     "metadata": {},
     "output_type": "execute_result"
    }
   ],
   "source": [
    "from pyspark.sql.functions import array_contains\n",
    "\n",
    "def precision_at_k(test_data, k=10):\n",
    "    \"\"\"\n",
    "    Tính Precision@K cho mô hình gợi ý.\n",
    "    \"\"\"\n",
    "    correct_predictions = 0\n",
    "    total_predictions = 0\n",
    "\n",
    "    for title in test_data.select(\"title\").distinct().rdd.map(lambda row: row.title).collect():\n",
    "        item_data = train_data.filter(col(\"title\") == title).select(\"item_id\", \"genre_vector\").first()\n",
    "        if not item_data:\n",
    "            continue\n",
    "\n",
    "        # Lấy danh sách gợi ý\n",
    "        genre_vector = DenseVector(item_data[\"genre_vector\"].toArray())\n",
    "        broadcast_genre_vector = spark.sparkContext.broadcast(genre_vector)\n",
    "\n",
    "        def calculate_similarity(row):\n",
    "            target_vector = broadcast_genre_vector.value\n",
    "            row_vector = DenseVector(row.genre_vector.toArray())\n",
    "            dot_product = sum(target_vector[i] * row_vector[i] for i in range(len(target_vector)))\n",
    "            norm_target = sum(x ** 2 for x in target_vector) ** 0.5\n",
    "            norm_row = sum(x ** 2 for x in row_vector) ** 0.5\n",
    "            similarity = dot_product / (norm_target * norm_row) if norm_target and norm_row else 0.0\n",
    "            return row.title, similarity\n",
    "\n",
    "        recommendations = train_data.rdd.map(calculate_similarity) \\\n",
    "                                        .filter(lambda x: x[0] != title) \\\n",
    "                                        .takeOrdered(k, key=lambda x: -x[1])\n",
    "        \n",
    "        # Danh sách kết quả gợi ý\n",
    "        recommended_titles = [rec[0] for rec in recommendations]\n",
    "\n",
    "        # Kiểm tra các anime trong test_data có được gợi ý hay không\n",
    "        test_items = test_data.filter(col(\"title\") == title).select(\"genres\").rdd.flatMap(lambda x: x.genres).collect()\n",
    "        for rec_title in recommended_titles:\n",
    "            rec_genres = train_data.filter(col(\"title\") == rec_title).select(\"genres\").rdd.flatMap(lambda x: x.genres).collect()\n",
    "            if any(genre in test_items for genre in rec_genres):\n",
    "                correct_predictions += 1\n",
    "\n",
    "        total_predictions += len(recommended_titles)\n",
    "\n",
    "    precision = correct_predictions / total_predictions if total_predictions > 0 else 0.0\n",
    "    print(f\"Precision@{k}: {precision:.4f}\")\n",
    "    return precision\n",
    "\n",
    "# Đánh giá Precision@10\n",
    "precision_at_k(test_data, k=10)\n"
   ]
  }
 ],
 "metadata": {
  "kernelspec": {
   "display_name": "venv",
   "language": "python",
   "name": "python3"
  },
  "language_info": {
   "codemirror_mode": {
    "name": "ipython",
    "version": 3
   },
   "file_extension": ".py",
   "mimetype": "text/x-python",
   "name": "python",
   "nbconvert_exporter": "python",
   "pygments_lexer": "ipython3",
   "version": "3.10.6"
  }
 },
 "nbformat": 4,
 "nbformat_minor": 2
}
